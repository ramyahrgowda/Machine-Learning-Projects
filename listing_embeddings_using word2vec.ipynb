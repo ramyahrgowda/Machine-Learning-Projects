{
 "cells": [
  {
   "cell_type": "markdown",
   "metadata": {},
   "source": [
    "## Listing Embedding"
   ]
  },
  {
   "cell_type": "markdown",
   "metadata": {},
   "source": [
    "### 1. Importing datasets"
   ]
  },
  {
   "cell_type": "code",
   "execution_count": 1,
   "metadata": {},
   "outputs": [],
   "source": [
    "#Import necessary libraries\n",
    "import pandas as pd\n",
    "import numpy as np\n",
    "import matplotlib.pyplot as plt\n",
    "import seaborn as sns\n",
    "import warnings\n",
    "warnings.filterwarnings('ignore')"
   ]
  },
  {
   "cell_type": "code",
   "execution_count": 2,
   "metadata": {},
   "outputs": [],
   "source": [
    "#Importing review data and listing data\n",
    "review_df = pd.read_csv('Dataset/airbnb_reviews.csv')\n",
    "listings_df = pd.read_csv('Dataset/airbnb_listings.csv')"
   ]
  },
  {
   "cell_type": "code",
   "execution_count": 3,
   "metadata": {},
   "outputs": [
    {
     "data": {
      "text/html": [
       "<div>\n",
       "<style scoped>\n",
       "    .dataframe tbody tr th:only-of-type {\n",
       "        vertical-align: middle;\n",
       "    }\n",
       "\n",
       "    .dataframe tbody tr th {\n",
       "        vertical-align: top;\n",
       "    }\n",
       "\n",
       "    .dataframe thead th {\n",
       "        text-align: right;\n",
       "    }\n",
       "</style>\n",
       "<table border=\"1\" class=\"dataframe\">\n",
       "  <thead>\n",
       "    <tr style=\"text-align: right;\">\n",
       "      <th></th>\n",
       "      <th>listing_id</th>\n",
       "      <th>date</th>\n",
       "      <th>reviewer_id</th>\n",
       "    </tr>\n",
       "  </thead>\n",
       "  <tbody>\n",
       "    <tr>\n",
       "      <td>0</td>\n",
       "      <td>3344</td>\n",
       "      <td>2009-05-09</td>\n",
       "      <td>12016</td>\n",
       "    </tr>\n",
       "    <tr>\n",
       "      <td>1</td>\n",
       "      <td>3344</td>\n",
       "      <td>2009-11-29</td>\n",
       "      <td>40724</td>\n",
       "    </tr>\n",
       "    <tr>\n",
       "      <td>2</td>\n",
       "      <td>3344</td>\n",
       "      <td>2009-12-16</td>\n",
       "      <td>58506</td>\n",
       "    </tr>\n",
       "    <tr>\n",
       "      <td>3</td>\n",
       "      <td>3344</td>\n",
       "      <td>2011-06-01</td>\n",
       "      <td>583926</td>\n",
       "    </tr>\n",
       "    <tr>\n",
       "      <td>4</td>\n",
       "      <td>3344</td>\n",
       "      <td>2011-06-04</td>\n",
       "      <td>503189</td>\n",
       "    </tr>\n",
       "  </tbody>\n",
       "</table>\n",
       "</div>"
      ],
      "text/plain": [
       "   listing_id        date  reviewer_id\n",
       "0        3344  2009-05-09        12016\n",
       "1        3344  2009-11-29        40724\n",
       "2        3344  2009-12-16        58506\n",
       "3        3344  2011-06-01       583926\n",
       "4        3344  2011-06-04       503189"
      ]
     },
     "execution_count": 3,
     "metadata": {},
     "output_type": "execute_result"
    }
   ],
   "source": [
    "#display top 5 rows of review data\n",
    "review_df.head()"
   ]
  },
  {
   "cell_type": "code",
   "execution_count": 4,
   "metadata": {},
   "outputs": [
    {
     "data": {
      "text/plain": [
       "(7777766, 3)"
      ]
     },
     "execution_count": 4,
     "metadata": {},
     "output_type": "execute_result"
    }
   ],
   "source": [
    "#dimension of review dataset\n",
    "review_df.shape"
   ]
  },
  {
   "cell_type": "code",
   "execution_count": 5,
   "metadata": {},
   "outputs": [
    {
     "data": {
      "text/html": [
       "<div>\n",
       "<style scoped>\n",
       "    .dataframe tbody tr th:only-of-type {\n",
       "        vertical-align: middle;\n",
       "    }\n",
       "\n",
       "    .dataframe tbody tr th {\n",
       "        vertical-align: top;\n",
       "    }\n",
       "\n",
       "    .dataframe thead th {\n",
       "        text-align: right;\n",
       "    }\n",
       "</style>\n",
       "<table border=\"1\" class=\"dataframe\">\n",
       "  <thead>\n",
       "    <tr style=\"text-align: right;\">\n",
       "      <th></th>\n",
       "      <th>id</th>\n",
       "      <th>name</th>\n",
       "      <th>host_id</th>\n",
       "      <th>host_name</th>\n",
       "      <th>neighbourhood_group</th>\n",
       "      <th>neighbourhood</th>\n",
       "      <th>latitude</th>\n",
       "      <th>longitude</th>\n",
       "      <th>room_type</th>\n",
       "      <th>price</th>\n",
       "      <th>minimum_nights</th>\n",
       "      <th>number_of_reviews</th>\n",
       "      <th>last_review</th>\n",
       "      <th>reviews_per_month</th>\n",
       "      <th>calculated_host_listings_count</th>\n",
       "      <th>availability_365</th>\n",
       "      <th>city</th>\n",
       "    </tr>\n",
       "  </thead>\n",
       "  <tbody>\n",
       "    <tr>\n",
       "      <td>0</td>\n",
       "      <td>3344</td>\n",
       "      <td>White House/Center City, 1 roommate</td>\n",
       "      <td>4957</td>\n",
       "      <td>A.J.</td>\n",
       "      <td>NaN</td>\n",
       "      <td>Downtown, Chinatown, Penn Quarters, Mount Vern...</td>\n",
       "      <td>38.90126</td>\n",
       "      <td>-77.02857</td>\n",
       "      <td>Private room</td>\n",
       "      <td>48</td>\n",
       "      <td>306</td>\n",
       "      <td>11</td>\n",
       "      <td>2016-08-31</td>\n",
       "      <td>0.09</td>\n",
       "      <td>2</td>\n",
       "      <td>363</td>\n",
       "      <td>washington</td>\n",
       "    </tr>\n",
       "    <tr>\n",
       "      <td>1</td>\n",
       "      <td>3362</td>\n",
       "      <td>Convention Center Rowhouse &amp; In Law: 2 Units, 4BR</td>\n",
       "      <td>2798</td>\n",
       "      <td>Ayeh</td>\n",
       "      <td>NaN</td>\n",
       "      <td>Shaw, Logan Circle</td>\n",
       "      <td>38.91046</td>\n",
       "      <td>-77.01933</td>\n",
       "      <td>Entire home/apt</td>\n",
       "      <td>433</td>\n",
       "      <td>2</td>\n",
       "      <td>165</td>\n",
       "      <td>2019-06-30</td>\n",
       "      <td>1.29</td>\n",
       "      <td>5</td>\n",
       "      <td>321</td>\n",
       "      <td>washington</td>\n",
       "    </tr>\n",
       "    <tr>\n",
       "      <td>2</td>\n",
       "      <td>3662</td>\n",
       "      <td>Vita's Hideaway II</td>\n",
       "      <td>4645</td>\n",
       "      <td>Vita</td>\n",
       "      <td>NaN</td>\n",
       "      <td>Historic Anacostia</td>\n",
       "      <td>38.86193</td>\n",
       "      <td>-76.98963</td>\n",
       "      <td>Private room</td>\n",
       "      <td>65</td>\n",
       "      <td>2</td>\n",
       "      <td>36</td>\n",
       "      <td>2019-04-14</td>\n",
       "      <td>0.36</td>\n",
       "      <td>3</td>\n",
       "      <td>274</td>\n",
       "      <td>washington</td>\n",
       "    </tr>\n",
       "    <tr>\n",
       "      <td>3</td>\n",
       "      <td>3670</td>\n",
       "      <td>Beautiful Sun-Lit U Street 1BR/1BA</td>\n",
       "      <td>4630</td>\n",
       "      <td>Sheila</td>\n",
       "      <td>NaN</td>\n",
       "      <td>Howard University, Le Droit Park, Cardozo/Shaw</td>\n",
       "      <td>38.91842</td>\n",
       "      <td>-77.02750</td>\n",
       "      <td>Private room</td>\n",
       "      <td>75</td>\n",
       "      <td>2</td>\n",
       "      <td>79</td>\n",
       "      <td>2018-07-25</td>\n",
       "      <td>1.50</td>\n",
       "      <td>1</td>\n",
       "      <td>365</td>\n",
       "      <td>washington</td>\n",
       "    </tr>\n",
       "    <tr>\n",
       "      <td>4</td>\n",
       "      <td>3686</td>\n",
       "      <td>Vita's Hideaway</td>\n",
       "      <td>4645</td>\n",
       "      <td>Vita</td>\n",
       "      <td>NaN</td>\n",
       "      <td>Historic Anacostia</td>\n",
       "      <td>38.86314</td>\n",
       "      <td>-76.98836</td>\n",
       "      <td>Private room</td>\n",
       "      <td>55</td>\n",
       "      <td>2</td>\n",
       "      <td>70</td>\n",
       "      <td>2019-05-18</td>\n",
       "      <td>0.66</td>\n",
       "      <td>3</td>\n",
       "      <td>235</td>\n",
       "      <td>washington</td>\n",
       "    </tr>\n",
       "  </tbody>\n",
       "</table>\n",
       "</div>"
      ],
      "text/plain": [
       "     id                                               name  host_id host_name  \\\n",
       "0  3344                White House/Center City, 1 roommate     4957      A.J.   \n",
       "1  3362  Convention Center Rowhouse & In Law: 2 Units, 4BR     2798      Ayeh   \n",
       "2  3662                                 Vita's Hideaway II     4645      Vita   \n",
       "3  3670                 Beautiful Sun-Lit U Street 1BR/1BA     4630    Sheila   \n",
       "4  3686                                    Vita's Hideaway     4645      Vita   \n",
       "\n",
       "  neighbourhood_group                                      neighbourhood  \\\n",
       "0                 NaN  Downtown, Chinatown, Penn Quarters, Mount Vern...   \n",
       "1                 NaN                                 Shaw, Logan Circle   \n",
       "2                 NaN                                 Historic Anacostia   \n",
       "3                 NaN     Howard University, Le Droit Park, Cardozo/Shaw   \n",
       "4                 NaN                                 Historic Anacostia   \n",
       "\n",
       "   latitude  longitude        room_type  price  minimum_nights  \\\n",
       "0  38.90126  -77.02857     Private room     48             306   \n",
       "1  38.91046  -77.01933  Entire home/apt    433               2   \n",
       "2  38.86193  -76.98963     Private room     65               2   \n",
       "3  38.91842  -77.02750     Private room     75               2   \n",
       "4  38.86314  -76.98836     Private room     55               2   \n",
       "\n",
       "   number_of_reviews last_review  reviews_per_month  \\\n",
       "0                 11  2016-08-31               0.09   \n",
       "1                165  2019-06-30               1.29   \n",
       "2                 36  2019-04-14               0.36   \n",
       "3                 79  2018-07-25               1.50   \n",
       "4                 70  2019-05-18               0.66   \n",
       "\n",
       "   calculated_host_listings_count  availability_365        city  \n",
       "0                               2               363  washington  \n",
       "1                               5               321  washington  \n",
       "2                               3               274  washington  \n",
       "3                               1               365  washington  \n",
       "4                               3               235  washington  "
      ]
     },
     "execution_count": 5,
     "metadata": {},
     "output_type": "execute_result"
    }
   ],
   "source": [
    "#display top 5 rows of listings data\n",
    "listings_df.head()"
   ]
  },
  {
   "cell_type": "code",
   "execution_count": 6,
   "metadata": {},
   "outputs": [
    {
     "data": {
      "text/plain": [
       "(239207, 17)"
      ]
     },
     "execution_count": 6,
     "metadata": {},
     "output_type": "execute_result"
    }
   ],
   "source": [
    "#dimension of listing data\n",
    "listings_df.shape"
   ]
  },
  {
   "cell_type": "code",
   "execution_count": 7,
   "metadata": {},
   "outputs": [],
   "source": [
    "listings_df.drop_duplicates(subset=['id'],inplace=True)"
   ]
  },
  {
   "cell_type": "markdown",
   "metadata": {},
   "source": [
    "### 2. Merging review and listing dataset"
   ]
  },
  {
   "cell_type": "code",
   "execution_count": 8,
   "metadata": {},
   "outputs": [],
   "source": [
    "#merge listings and reviews on listing id\n",
    "airbnb_df = pd.merge(left=review_df, right=listings_df, how='left',left_on='listing_id',right_on='id')"
   ]
  },
  {
   "cell_type": "code",
   "execution_count": 9,
   "metadata": {},
   "outputs": [
    {
     "data": {
      "text/plain": [
       "Index(['listing_id', 'date', 'reviewer_id', 'id', 'name', 'host_id',\n",
       "       'host_name', 'neighbourhood_group', 'neighbourhood', 'latitude',\n",
       "       'longitude', 'room_type', 'price', 'minimum_nights',\n",
       "       'number_of_reviews', 'last_review', 'reviews_per_month',\n",
       "       'calculated_host_listings_count', 'availability_365', 'city'],\n",
       "      dtype='object')"
      ]
     },
     "execution_count": 9,
     "metadata": {},
     "output_type": "execute_result"
    }
   ],
   "source": [
    "airbnb_df.columns"
   ]
  },
  {
   "cell_type": "code",
   "execution_count": 10,
   "metadata": {},
   "outputs": [],
   "source": [
    "airbnb_df = airbnb_df[['listing_id', 'date', 'reviewer_id', 'neighbourhood', 'latitude',\n",
    "       'longitude', 'room_type', 'price', 'minimum_nights','number_of_reviews', 'reviews_per_month',\n",
    "       'calculated_host_listings_count', 'availability_365', 'city']]"
   ]
  },
  {
   "cell_type": "code",
   "execution_count": 11,
   "metadata": {},
   "outputs": [],
   "source": [
    "#convert listing to string\n",
    "airbnb_df['listing_id'] = airbnb_df['listing_id'].astype(str)"
   ]
  },
  {
   "cell_type": "markdown",
   "metadata": {},
   "source": [
    "### 3. Selecting reviewers with at least 8 reviews"
   ]
  },
  {
   "cell_type": "code",
   "execution_count": 12,
   "metadata": {},
   "outputs": [],
   "source": [
    "review_agg = airbnb_df.groupby('reviewer_id')['listing_id'].agg({'nunique','count'})"
   ]
  },
  {
   "cell_type": "code",
   "execution_count": 13,
   "metadata": {},
   "outputs": [
    {
     "data": {
      "text/html": [
       "<div>\n",
       "<style scoped>\n",
       "    .dataframe tbody tr th:only-of-type {\n",
       "        vertical-align: middle;\n",
       "    }\n",
       "\n",
       "    .dataframe tbody tr th {\n",
       "        vertical-align: top;\n",
       "    }\n",
       "\n",
       "    .dataframe thead th {\n",
       "        text-align: right;\n",
       "    }\n",
       "</style>\n",
       "<table border=\"1\" class=\"dataframe\">\n",
       "  <thead>\n",
       "    <tr style=\"text-align: right;\">\n",
       "      <th></th>\n",
       "      <th>nunique</th>\n",
       "      <th>count</th>\n",
       "    </tr>\n",
       "    <tr>\n",
       "      <th>reviewer_id</th>\n",
       "      <th></th>\n",
       "      <th></th>\n",
       "    </tr>\n",
       "  </thead>\n",
       "  <tbody>\n",
       "    <tr>\n",
       "      <td>1</td>\n",
       "      <td>9</td>\n",
       "      <td>9</td>\n",
       "    </tr>\n",
       "    <tr>\n",
       "      <td>2</td>\n",
       "      <td>5</td>\n",
       "      <td>5</td>\n",
       "    </tr>\n",
       "    <tr>\n",
       "      <td>3</td>\n",
       "      <td>19</td>\n",
       "      <td>19</td>\n",
       "    </tr>\n",
       "    <tr>\n",
       "      <td>14</td>\n",
       "      <td>2</td>\n",
       "      <td>2</td>\n",
       "    </tr>\n",
       "    <tr>\n",
       "      <td>15</td>\n",
       "      <td>2</td>\n",
       "      <td>2</td>\n",
       "    </tr>\n",
       "  </tbody>\n",
       "</table>\n",
       "</div>"
      ],
      "text/plain": [
       "             nunique  count\n",
       "reviewer_id                \n",
       "1                  9      9\n",
       "2                  5      5\n",
       "3                 19     19\n",
       "14                 2      2\n",
       "15                 2      2"
      ]
     },
     "execution_count": 13,
     "metadata": {},
     "output_type": "execute_result"
    }
   ],
   "source": [
    "review_agg.head()"
   ]
  },
  {
   "cell_type": "code",
   "execution_count": 14,
   "metadata": {},
   "outputs": [],
   "source": [
    "#select reviewers who have reviewed at least 8 bookings\n",
    "reviewer_8 = review_agg.loc[review_agg['nunique'] >= 8].index"
   ]
  },
  {
   "cell_type": "code",
   "execution_count": 15,
   "metadata": {},
   "outputs": [
    {
     "name": "stdout",
     "output_type": "stream",
     "text": [
      "(14767,)\n"
     ]
    }
   ],
   "source": [
    "print(reviewer_8.shape)"
   ]
  },
  {
   "cell_type": "code",
   "execution_count": 16,
   "metadata": {},
   "outputs": [],
   "source": [
    "reviewer_8_df = airbnb_df.loc[airbnb_df.reviewer_id.isin(reviewer_8)]"
   ]
  },
  {
   "cell_type": "code",
   "execution_count": 17,
   "metadata": {},
   "outputs": [
    {
     "data": {
      "text/html": [
       "<div>\n",
       "<style scoped>\n",
       "    .dataframe tbody tr th:only-of-type {\n",
       "        vertical-align: middle;\n",
       "    }\n",
       "\n",
       "    .dataframe tbody tr th {\n",
       "        vertical-align: top;\n",
       "    }\n",
       "\n",
       "    .dataframe thead th {\n",
       "        text-align: right;\n",
       "    }\n",
       "</style>\n",
       "<table border=\"1\" class=\"dataframe\">\n",
       "  <thead>\n",
       "    <tr style=\"text-align: right;\">\n",
       "      <th></th>\n",
       "      <th>listing_id</th>\n",
       "      <th>date</th>\n",
       "      <th>reviewer_id</th>\n",
       "      <th>neighbourhood</th>\n",
       "      <th>latitude</th>\n",
       "      <th>longitude</th>\n",
       "      <th>room_type</th>\n",
       "      <th>price</th>\n",
       "      <th>minimum_nights</th>\n",
       "      <th>number_of_reviews</th>\n",
       "      <th>reviews_per_month</th>\n",
       "      <th>calculated_host_listings_count</th>\n",
       "      <th>availability_365</th>\n",
       "      <th>city</th>\n",
       "    </tr>\n",
       "  </thead>\n",
       "  <tbody>\n",
       "    <tr>\n",
       "      <td>88</td>\n",
       "      <td>3362</td>\n",
       "      <td>2012-01-26</td>\n",
       "      <td>361449</td>\n",
       "      <td>Shaw, Logan Circle</td>\n",
       "      <td>38.91046</td>\n",
       "      <td>-77.01933</td>\n",
       "      <td>Entire home/apt</td>\n",
       "      <td>433</td>\n",
       "      <td>2</td>\n",
       "      <td>165</td>\n",
       "      <td>1.29</td>\n",
       "      <td>5</td>\n",
       "      <td>321</td>\n",
       "      <td>washington</td>\n",
       "    </tr>\n",
       "    <tr>\n",
       "      <td>142</td>\n",
       "      <td>3362</td>\n",
       "      <td>2018-03-06</td>\n",
       "      <td>6778344</td>\n",
       "      <td>Shaw, Logan Circle</td>\n",
       "      <td>38.91046</td>\n",
       "      <td>-77.01933</td>\n",
       "      <td>Entire home/apt</td>\n",
       "      <td>433</td>\n",
       "      <td>2</td>\n",
       "      <td>165</td>\n",
       "      <td>1.29</td>\n",
       "      <td>5</td>\n",
       "      <td>321</td>\n",
       "      <td>washington</td>\n",
       "    </tr>\n",
       "    <tr>\n",
       "      <td>185</td>\n",
       "      <td>3662</td>\n",
       "      <td>2011-07-18</td>\n",
       "      <td>752062</td>\n",
       "      <td>Historic Anacostia</td>\n",
       "      <td>38.86193</td>\n",
       "      <td>-76.98963</td>\n",
       "      <td>Private room</td>\n",
       "      <td>65</td>\n",
       "      <td>2</td>\n",
       "      <td>36</td>\n",
       "      <td>0.36</td>\n",
       "      <td>3</td>\n",
       "      <td>274</td>\n",
       "      <td>washington</td>\n",
       "    </tr>\n",
       "    <tr>\n",
       "      <td>272</td>\n",
       "      <td>3670</td>\n",
       "      <td>2018-03-15</td>\n",
       "      <td>127704962</td>\n",
       "      <td>Howard University, Le Droit Park, Cardozo/Shaw</td>\n",
       "      <td>38.91842</td>\n",
       "      <td>-77.02750</td>\n",
       "      <td>Private room</td>\n",
       "      <td>75</td>\n",
       "      <td>2</td>\n",
       "      <td>79</td>\n",
       "      <td>1.50</td>\n",
       "      <td>1</td>\n",
       "      <td>365</td>\n",
       "      <td>washington</td>\n",
       "    </tr>\n",
       "    <tr>\n",
       "      <td>281</td>\n",
       "      <td>3670</td>\n",
       "      <td>2018-05-04</td>\n",
       "      <td>127704962</td>\n",
       "      <td>Howard University, Le Droit Park, Cardozo/Shaw</td>\n",
       "      <td>38.91842</td>\n",
       "      <td>-77.02750</td>\n",
       "      <td>Private room</td>\n",
       "      <td>75</td>\n",
       "      <td>2</td>\n",
       "      <td>79</td>\n",
       "      <td>1.50</td>\n",
       "      <td>1</td>\n",
       "      <td>365</td>\n",
       "      <td>washington</td>\n",
       "    </tr>\n",
       "  </tbody>\n",
       "</table>\n",
       "</div>"
      ],
      "text/plain": [
       "    listing_id        date  reviewer_id  \\\n",
       "88        3362  2012-01-26       361449   \n",
       "142       3362  2018-03-06      6778344   \n",
       "185       3662  2011-07-18       752062   \n",
       "272       3670  2018-03-15    127704962   \n",
       "281       3670  2018-05-04    127704962   \n",
       "\n",
       "                                      neighbourhood  latitude  longitude  \\\n",
       "88                               Shaw, Logan Circle  38.91046  -77.01933   \n",
       "142                              Shaw, Logan Circle  38.91046  -77.01933   \n",
       "185                              Historic Anacostia  38.86193  -76.98963   \n",
       "272  Howard University, Le Droit Park, Cardozo/Shaw  38.91842  -77.02750   \n",
       "281  Howard University, Le Droit Park, Cardozo/Shaw  38.91842  -77.02750   \n",
       "\n",
       "           room_type  price  minimum_nights  number_of_reviews  \\\n",
       "88   Entire home/apt    433               2                165   \n",
       "142  Entire home/apt    433               2                165   \n",
       "185     Private room     65               2                 36   \n",
       "272     Private room     75               2                 79   \n",
       "281     Private room     75               2                 79   \n",
       "\n",
       "     reviews_per_month  calculated_host_listings_count  availability_365  \\\n",
       "88                1.29                               5               321   \n",
       "142               1.29                               5               321   \n",
       "185               0.36                               3               274   \n",
       "272               1.50                               1               365   \n",
       "281               1.50                               1               365   \n",
       "\n",
       "           city  \n",
       "88   washington  \n",
       "142  washington  \n",
       "185  washington  \n",
       "272  washington  \n",
       "281  washington  "
      ]
     },
     "execution_count": 17,
     "metadata": {},
     "output_type": "execute_result"
    }
   ],
   "source": [
    "reviewer_8_df.head()"
   ]
  },
  {
   "cell_type": "code",
   "execution_count": 18,
   "metadata": {},
   "outputs": [],
   "source": [
    "review_sorted = reviewer_8_df.sort_values(by=['reviewer_id','date']).reset_index()\n",
    "review_sorted.drop(columns=['index'], inplace = True)\n",
    "list_df = review_sorted.groupby('reviewer_id')['listing_id'].apply(list)"
   ]
  },
  {
   "cell_type": "code",
   "execution_count": 19,
   "metadata": {},
   "outputs": [
    {
     "data": {
      "text/plain": [
       "reviewer_id\n",
       "1      [252828, 1855096, 288213, 2933105, 2114753, 67...\n",
       "3      [14125, 12522, 66796, 76497, 822169, 24463, 92...\n",
       "56     [3550391, 3550391, 1730937, 3801701, 9240346, ...\n",
       "322    [177129, 5261729, 1688018, 5012030, 15007764, ...\n",
       "470    [27632, 230321, 334339, 3227096, 945297, 20194...\n",
       "Name: listing_id, dtype: object"
      ]
     },
     "execution_count": 19,
     "metadata": {},
     "output_type": "execute_result"
    }
   ],
   "source": [
    "#Input to word2vec\n",
    "list_df.head()"
   ]
  },
  {
   "cell_type": "code",
   "execution_count": 20,
   "metadata": {},
   "outputs": [],
   "source": [
    "#copying reviewer and listings to a dictionary\n",
    "user_listings_dict = list_df.to_dict()"
   ]
  },
  {
   "cell_type": "code",
   "execution_count": 21,
   "metadata": {},
   "outputs": [
    {
     "data": {
      "text/plain": [
       "['14125',\n",
       " '12522',\n",
       " '66796',\n",
       " '76497',\n",
       " '822169',\n",
       " '24463',\n",
       " '9225',\n",
       " '522081',\n",
       " '241140',\n",
       " '11866275',\n",
       " '18067918',\n",
       " '21136781',\n",
       " '5376422',\n",
       " '1673011',\n",
       " '13735115',\n",
       " '16173016',\n",
       " '18431597',\n",
       " '25975274',\n",
       " '7558236']"
      ]
     },
     "execution_count": 21,
     "metadata": {},
     "output_type": "execute_result"
    }
   ],
   "source": [
    "list_df[3]"
   ]
  },
  {
   "cell_type": "markdown",
   "metadata": {},
   "source": [
    "### 4. Learning embeddings for listings using word2vec"
   ]
  },
  {
   "cell_type": "code",
   "execution_count": 22,
   "metadata": {},
   "outputs": [],
   "source": [
    "EMBEDDING_SIZE = 30\n",
    "WINDOW_SIZE = 5"
   ]
  },
  {
   "cell_type": "code",
   "execution_count": 23,
   "metadata": {},
   "outputs": [],
   "source": [
    "from gensim.models import Word2Vec\n",
    "model_w2v = Word2Vec(sentences=list_df, size = EMBEDDING_SIZE, window = WINDOW_SIZE, sg=1, hs=0, min_count=5, workers =4, seed=4)"
   ]
  },
  {
   "cell_type": "code",
   "execution_count": 24,
   "metadata": {},
   "outputs": [
    {
     "data": {
      "text/plain": [
       "array([-0.03575594,  0.01142295,  0.38417435,  0.28146565, -0.25377575,\n",
       "       -0.23956373, -0.20248638,  0.13146709, -0.08239376,  0.12592643,\n",
       "        0.17935435, -0.04201157, -0.00045952, -0.01519781,  0.30382782,\n",
       "        0.15501364,  0.21310183,  0.23500998,  0.10016204, -0.11862844,\n",
       "        0.04784038,  0.32899   , -0.2578876 , -0.11648241,  0.04593796,\n",
       "        0.11835604,  0.07871698, -0.25185812,  0.06465358, -0.1550228 ],\n",
       "      dtype=float32)"
      ]
     },
     "execution_count": 24,
     "metadata": {},
     "output_type": "execute_result"
    }
   ],
   "source": [
    "model_w2v.wv['288213']"
   ]
  },
  {
   "cell_type": "code",
   "execution_count": 25,
   "metadata": {},
   "outputs": [
    {
     "data": {
      "text/plain": [
       "10435"
      ]
     },
     "execution_count": 25,
     "metadata": {},
     "output_type": "execute_result"
    }
   ],
   "source": [
    "len(model_w2v.wv.vocab)"
   ]
  },
  {
   "cell_type": "code",
   "execution_count": 26,
   "metadata": {},
   "outputs": [
    {
     "data": {
      "text/plain": [
       "30"
      ]
     },
     "execution_count": 26,
     "metadata": {},
     "output_type": "execute_result"
    }
   ],
   "source": [
    "model_w2v.wv.vector_size"
   ]
  },
  {
   "cell_type": "code",
   "execution_count": 27,
   "metadata": {},
   "outputs": [],
   "source": [
    "#7231930\n",
    "search_query = '1688018'\n",
    "listings_retrieved = model_w2v.wv.most_similar(search_query, topn=10)"
   ]
  },
  {
   "cell_type": "code",
   "execution_count": 28,
   "metadata": {},
   "outputs": [
    {
     "data": {
      "text/plain": [
       "[('3638324', 0.9981861710548401),\n",
       " ('11436299', 0.9981852769851685),\n",
       " ('16351934', 0.9980871677398682),\n",
       " ('1021139', 0.9979209303855896),\n",
       " ('3661871', 0.9979087710380554),\n",
       " ('10191343', 0.9978998899459839),\n",
       " ('5905594', 0.9978986382484436),\n",
       " ('12737616', 0.997883677482605),\n",
       " ('7825315', 0.9978430271148682),\n",
       " ('6749412', 0.997830331325531)]"
      ]
     },
     "execution_count": 28,
     "metadata": {},
     "output_type": "execute_result"
    }
   ],
   "source": [
    "listings_retrieved"
   ]
  },
  {
   "cell_type": "code",
   "execution_count": 29,
   "metadata": {},
   "outputs": [
    {
     "data": {
      "text/html": [
       "<div>\n",
       "<style scoped>\n",
       "    .dataframe tbody tr th:only-of-type {\n",
       "        vertical-align: middle;\n",
       "    }\n",
       "\n",
       "    .dataframe tbody tr th {\n",
       "        vertical-align: top;\n",
       "    }\n",
       "\n",
       "    .dataframe thead th {\n",
       "        text-align: right;\n",
       "    }\n",
       "</style>\n",
       "<table border=\"1\" class=\"dataframe\">\n",
       "  <thead>\n",
       "    <tr style=\"text-align: right;\">\n",
       "      <th></th>\n",
       "      <th>id</th>\n",
       "      <th>name</th>\n",
       "      <th>host_id</th>\n",
       "      <th>host_name</th>\n",
       "      <th>neighbourhood_group</th>\n",
       "      <th>neighbourhood</th>\n",
       "      <th>latitude</th>\n",
       "      <th>longitude</th>\n",
       "      <th>room_type</th>\n",
       "      <th>price</th>\n",
       "      <th>minimum_nights</th>\n",
       "      <th>number_of_reviews</th>\n",
       "      <th>last_review</th>\n",
       "      <th>reviews_per_month</th>\n",
       "      <th>calculated_host_listings_count</th>\n",
       "      <th>availability_365</th>\n",
       "      <th>city</th>\n",
       "    </tr>\n",
       "  </thead>\n",
       "  <tbody>\n",
       "    <tr>\n",
       "      <td>125014</td>\n",
       "      <td>1688018</td>\n",
       "      <td>The NELA Yurt - Mt. Washington</td>\n",
       "      <td>3844352</td>\n",
       "      <td>Carrick</td>\n",
       "      <td>NaN</td>\n",
       "      <td>Glassell Park</td>\n",
       "      <td>34.10626</td>\n",
       "      <td>-118.23431</td>\n",
       "      <td>Entire home/apt</td>\n",
       "      <td>85</td>\n",
       "      <td>2</td>\n",
       "      <td>331</td>\n",
       "      <td>2019-06-30</td>\n",
       "      <td>4.86</td>\n",
       "      <td>2</td>\n",
       "      <td>345</td>\n",
       "      <td>los angeles</td>\n",
       "    </tr>\n",
       "  </tbody>\n",
       "</table>\n",
       "</div>"
      ],
      "text/plain": [
       "             id                            name  host_id host_name  \\\n",
       "125014  1688018  The NELA Yurt - Mt. Washington  3844352   Carrick   \n",
       "\n",
       "       neighbourhood_group  neighbourhood  latitude  longitude  \\\n",
       "125014                 NaN  Glassell Park  34.10626 -118.23431   \n",
       "\n",
       "              room_type  price  minimum_nights  number_of_reviews last_review  \\\n",
       "125014  Entire home/apt     85               2                331  2019-06-30   \n",
       "\n",
       "        reviews_per_month  calculated_host_listings_count  availability_365  \\\n",
       "125014               4.86                               2               345   \n",
       "\n",
       "               city  \n",
       "125014  los angeles  "
      ]
     },
     "execution_count": 29,
     "metadata": {},
     "output_type": "execute_result"
    }
   ],
   "source": [
    "listings_df.loc[listings_df.id==1688018]"
   ]
  },
  {
   "cell_type": "code",
   "execution_count": 30,
   "metadata": {},
   "outputs": [
    {
     "data": {
      "text/html": [
       "<div>\n",
       "<style scoped>\n",
       "    .dataframe tbody tr th:only-of-type {\n",
       "        vertical-align: middle;\n",
       "    }\n",
       "\n",
       "    .dataframe tbody tr th {\n",
       "        vertical-align: top;\n",
       "    }\n",
       "\n",
       "    .dataframe thead th {\n",
       "        text-align: right;\n",
       "    }\n",
       "</style>\n",
       "<table border=\"1\" class=\"dataframe\">\n",
       "  <thead>\n",
       "    <tr style=\"text-align: right;\">\n",
       "      <th></th>\n",
       "      <th>id</th>\n",
       "      <th>name</th>\n",
       "      <th>host_id</th>\n",
       "      <th>host_name</th>\n",
       "      <th>neighbourhood_group</th>\n",
       "      <th>neighbourhood</th>\n",
       "      <th>latitude</th>\n",
       "      <th>longitude</th>\n",
       "      <th>room_type</th>\n",
       "      <th>price</th>\n",
       "      <th>minimum_nights</th>\n",
       "      <th>number_of_reviews</th>\n",
       "      <th>last_review</th>\n",
       "      <th>reviews_per_month</th>\n",
       "      <th>calculated_host_listings_count</th>\n",
       "      <th>availability_365</th>\n",
       "      <th>city</th>\n",
       "    </tr>\n",
       "  </thead>\n",
       "  <tbody>\n",
       "    <tr>\n",
       "      <td>18053</td>\n",
       "      <td>12737616</td>\n",
       "      <td>NW Studio in Heart of Cap Hill</td>\n",
       "      <td>595610</td>\n",
       "      <td>Elena</td>\n",
       "      <td>Capitol Hill</td>\n",
       "      <td>Broadway</td>\n",
       "      <td>47.62086</td>\n",
       "      <td>-122.31690</td>\n",
       "      <td>Entire home/apt</td>\n",
       "      <td>135</td>\n",
       "      <td>2</td>\n",
       "      <td>283</td>\n",
       "      <td>2019-08-12</td>\n",
       "      <td>7.03</td>\n",
       "      <td>41</td>\n",
       "      <td>25</td>\n",
       "      <td>seattle</td>\n",
       "    </tr>\n",
       "    <tr>\n",
       "      <td>40975</td>\n",
       "      <td>6749412</td>\n",
       "      <td>Beautiful Potrero Hill Apt, Parking</td>\n",
       "      <td>4221614</td>\n",
       "      <td>Cris, Daniela, Olivia &amp; Paloma</td>\n",
       "      <td>NaN</td>\n",
       "      <td>Potrero Hill</td>\n",
       "      <td>37.76034</td>\n",
       "      <td>-122.40525</td>\n",
       "      <td>Entire home/apt</td>\n",
       "      <td>300</td>\n",
       "      <td>1</td>\n",
       "      <td>187</td>\n",
       "      <td>2019-06-14</td>\n",
       "      <td>3.72</td>\n",
       "      <td>1</td>\n",
       "      <td>330</td>\n",
       "      <td>san fransisco</td>\n",
       "    </tr>\n",
       "    <tr>\n",
       "      <td>42441</td>\n",
       "      <td>16351934</td>\n",
       "      <td>Queen bedroom in gorgeous bright Dolores luxury</td>\n",
       "      <td>9151990</td>\n",
       "      <td>Roxy</td>\n",
       "      <td>NaN</td>\n",
       "      <td>Mission</td>\n",
       "      <td>37.76172</td>\n",
       "      <td>-122.42348</td>\n",
       "      <td>Private room</td>\n",
       "      <td>180</td>\n",
       "      <td>2</td>\n",
       "      <td>63</td>\n",
       "      <td>2019-05-09</td>\n",
       "      <td>2.01</td>\n",
       "      <td>3</td>\n",
       "      <td>0</td>\n",
       "      <td>san fransisco</td>\n",
       "    </tr>\n",
       "    <tr>\n",
       "      <td>51585</td>\n",
       "      <td>3638324</td>\n",
       "      <td>Queen Bed and Walk to Everything</td>\n",
       "      <td>18352745</td>\n",
       "      <td>Jennifer</td>\n",
       "      <td>NaN</td>\n",
       "      <td>Richmond</td>\n",
       "      <td>45.50966</td>\n",
       "      <td>-122.62735</td>\n",
       "      <td>Private room</td>\n",
       "      <td>70</td>\n",
       "      <td>2</td>\n",
       "      <td>403</td>\n",
       "      <td>2019-07-06</td>\n",
       "      <td>6.87</td>\n",
       "      <td>2</td>\n",
       "      <td>161</td>\n",
       "      <td>portland</td>\n",
       "    </tr>\n",
       "    <tr>\n",
       "      <td>128312</td>\n",
       "      <td>5905594</td>\n",
       "      <td>Cool Silverlake Studio➹Walkable Neighborhood</td>\n",
       "      <td>752508</td>\n",
       "      <td>Rebecca</td>\n",
       "      <td>NaN</td>\n",
       "      <td>Silver Lake</td>\n",
       "      <td>34.08651</td>\n",
       "      <td>-118.27597</td>\n",
       "      <td>Entire home/apt</td>\n",
       "      <td>118</td>\n",
       "      <td>2</td>\n",
       "      <td>315</td>\n",
       "      <td>2019-06-29</td>\n",
       "      <td>6.08</td>\n",
       "      <td>9</td>\n",
       "      <td>250</td>\n",
       "      <td>los angeles</td>\n",
       "    </tr>\n",
       "    <tr>\n",
       "      <td>129912</td>\n",
       "      <td>7825315</td>\n",
       "      <td>Stylish, Cozy Apartment with Outdoor Art Studio</td>\n",
       "      <td>30359367</td>\n",
       "      <td>Lea &amp; Jordan</td>\n",
       "      <td>NaN</td>\n",
       "      <td>Venice</td>\n",
       "      <td>33.99756</td>\n",
       "      <td>-118.47032</td>\n",
       "      <td>Entire home/apt</td>\n",
       "      <td>189</td>\n",
       "      <td>1</td>\n",
       "      <td>253</td>\n",
       "      <td>2019-06-23</td>\n",
       "      <td>5.33</td>\n",
       "      <td>1</td>\n",
       "      <td>328</td>\n",
       "      <td>los angeles</td>\n",
       "    </tr>\n",
       "    <tr>\n",
       "      <td>131739</td>\n",
       "      <td>10191343</td>\n",
       "      <td>Clean cozy studio near Silicon Beach, easy par...</td>\n",
       "      <td>3170738</td>\n",
       "      <td>Cuong</td>\n",
       "      <td>NaN</td>\n",
       "      <td>Del Rey</td>\n",
       "      <td>33.98848</td>\n",
       "      <td>-118.42032</td>\n",
       "      <td>Entire home/apt</td>\n",
       "      <td>55</td>\n",
       "      <td>1</td>\n",
       "      <td>201</td>\n",
       "      <td>2019-06-23</td>\n",
       "      <td>4.69</td>\n",
       "      <td>1</td>\n",
       "      <td>31</td>\n",
       "      <td>los angeles</td>\n",
       "    </tr>\n",
       "    <tr>\n",
       "      <td>132505</td>\n",
       "      <td>11436299</td>\n",
       "      <td>Spacious room with French doors.</td>\n",
       "      <td>60091322</td>\n",
       "      <td>Susan</td>\n",
       "      <td>NaN</td>\n",
       "      <td>Culver City</td>\n",
       "      <td>33.99322</td>\n",
       "      <td>-118.43131</td>\n",
       "      <td>Private room</td>\n",
       "      <td>60</td>\n",
       "      <td>1</td>\n",
       "      <td>128</td>\n",
       "      <td>2019-07-07</td>\n",
       "      <td>3.18</td>\n",
       "      <td>1</td>\n",
       "      <td>333</td>\n",
       "      <td>los angeles</td>\n",
       "    </tr>\n",
       "    <tr>\n",
       "      <td>225746</td>\n",
       "      <td>1021139</td>\n",
       "      <td>Backyard Cottage in Central Austin</td>\n",
       "      <td>5620519</td>\n",
       "      <td>Steve</td>\n",
       "      <td>NaN</td>\n",
       "      <td>78722</td>\n",
       "      <td>30.29087</td>\n",
       "      <td>-97.71895</td>\n",
       "      <td>Entire home/apt</td>\n",
       "      <td>90</td>\n",
       "      <td>1</td>\n",
       "      <td>819</td>\n",
       "      <td>2019-07-09</td>\n",
       "      <td>10.81</td>\n",
       "      <td>1</td>\n",
       "      <td>286</td>\n",
       "      <td>austin</td>\n",
       "    </tr>\n",
       "    <tr>\n",
       "      <td>226412</td>\n",
       "      <td>3661871</td>\n",
       "      <td>Modern Serene Guesthouse</td>\n",
       "      <td>16921065</td>\n",
       "      <td>Jodi</td>\n",
       "      <td>NaN</td>\n",
       "      <td>78746</td>\n",
       "      <td>30.27769</td>\n",
       "      <td>-97.78126</td>\n",
       "      <td>Entire home/apt</td>\n",
       "      <td>155</td>\n",
       "      <td>2</td>\n",
       "      <td>324</td>\n",
       "      <td>2019-06-30</td>\n",
       "      <td>5.39</td>\n",
       "      <td>1</td>\n",
       "      <td>319</td>\n",
       "      <td>austin</td>\n",
       "    </tr>\n",
       "  </tbody>\n",
       "</table>\n",
       "</div>"
      ],
      "text/plain": [
       "              id                                               name   host_id  \\\n",
       "18053   12737616                     NW Studio in Heart of Cap Hill    595610   \n",
       "40975    6749412                Beautiful Potrero Hill Apt, Parking   4221614   \n",
       "42441   16351934    Queen bedroom in gorgeous bright Dolores luxury   9151990   \n",
       "51585    3638324                   Queen Bed and Walk to Everything  18352745   \n",
       "128312   5905594       Cool Silverlake Studio➹Walkable Neighborhood    752508   \n",
       "129912   7825315    Stylish, Cozy Apartment with Outdoor Art Studio  30359367   \n",
       "131739  10191343  Clean cozy studio near Silicon Beach, easy par...   3170738   \n",
       "132505  11436299                   Spacious room with French doors.  60091322   \n",
       "225746   1021139                 Backyard Cottage in Central Austin   5620519   \n",
       "226412   3661871                           Modern Serene Guesthouse  16921065   \n",
       "\n",
       "                             host_name neighbourhood_group neighbourhood  \\\n",
       "18053                            Elena        Capitol Hill      Broadway   \n",
       "40975   Cris, Daniela, Olivia & Paloma                 NaN  Potrero Hill   \n",
       "42441                             Roxy                 NaN       Mission   \n",
       "51585                         Jennifer                 NaN      Richmond   \n",
       "128312                         Rebecca                 NaN   Silver Lake   \n",
       "129912                    Lea & Jordan                 NaN        Venice   \n",
       "131739                           Cuong                 NaN       Del Rey   \n",
       "132505                           Susan                 NaN   Culver City   \n",
       "225746                           Steve                 NaN         78722   \n",
       "226412                            Jodi                 NaN         78746   \n",
       "\n",
       "        latitude  longitude        room_type  price  minimum_nights  \\\n",
       "18053   47.62086 -122.31690  Entire home/apt    135               2   \n",
       "40975   37.76034 -122.40525  Entire home/apt    300               1   \n",
       "42441   37.76172 -122.42348     Private room    180               2   \n",
       "51585   45.50966 -122.62735     Private room     70               2   \n",
       "128312  34.08651 -118.27597  Entire home/apt    118               2   \n",
       "129912  33.99756 -118.47032  Entire home/apt    189               1   \n",
       "131739  33.98848 -118.42032  Entire home/apt     55               1   \n",
       "132505  33.99322 -118.43131     Private room     60               1   \n",
       "225746  30.29087  -97.71895  Entire home/apt     90               1   \n",
       "226412  30.27769  -97.78126  Entire home/apt    155               2   \n",
       "\n",
       "        number_of_reviews last_review  reviews_per_month  \\\n",
       "18053                 283  2019-08-12               7.03   \n",
       "40975                 187  2019-06-14               3.72   \n",
       "42441                  63  2019-05-09               2.01   \n",
       "51585                 403  2019-07-06               6.87   \n",
       "128312                315  2019-06-29               6.08   \n",
       "129912                253  2019-06-23               5.33   \n",
       "131739                201  2019-06-23               4.69   \n",
       "132505                128  2019-07-07               3.18   \n",
       "225746                819  2019-07-09              10.81   \n",
       "226412                324  2019-06-30               5.39   \n",
       "\n",
       "        calculated_host_listings_count  availability_365           city  \n",
       "18053                               41                25        seattle  \n",
       "40975                                1               330  san fransisco  \n",
       "42441                                3                 0  san fransisco  \n",
       "51585                                2               161       portland  \n",
       "128312                               9               250    los angeles  \n",
       "129912                               1               328    los angeles  \n",
       "131739                               1                31    los angeles  \n",
       "132505                               1               333    los angeles  \n",
       "225746                               1               286         austin  \n",
       "226412                               1               319         austin  "
      ]
     },
     "execution_count": 30,
     "metadata": {},
     "output_type": "execute_result"
    }
   ],
   "source": [
    "retrieved_list = []\n",
    "for listing in listings_retrieved:\n",
    "    listing_id = int(listing[0])\n",
    "    retrieved_list.append(listing_id)\n",
    "listings_df.loc[listings_df.id.isin(retrieved_list)]"
   ]
  },
  {
   "cell_type": "code",
   "execution_count": 31,
   "metadata": {},
   "outputs": [],
   "source": [
    "#storing listings and corresponding vectors in a dictionary\n",
    "list_embed = {}\n",
    "for key in model_w2v.wv.vocab.keys():\n",
    "    list_embed[key] = model_w2v.wv[key]"
   ]
  },
  {
   "cell_type": "code",
   "execution_count": 32,
   "metadata": {},
   "outputs": [],
   "source": [
    "#Dictionary to dataframe\n",
    "list_embed_df = pd.DataFrame.from_dict(list_embed).transpose()\n",
    "list_embed_df.index.names = ['listing_id']\n",
    "list_embed_df.reset_index(inplace=True)"
   ]
  },
  {
   "cell_type": "code",
   "execution_count": 33,
   "metadata": {},
   "outputs": [
    {
     "data": {
      "text/html": [
       "<div>\n",
       "<style scoped>\n",
       "    .dataframe tbody tr th:only-of-type {\n",
       "        vertical-align: middle;\n",
       "    }\n",
       "\n",
       "    .dataframe tbody tr th {\n",
       "        vertical-align: top;\n",
       "    }\n",
       "\n",
       "    .dataframe thead th {\n",
       "        text-align: right;\n",
       "    }\n",
       "</style>\n",
       "<table border=\"1\" class=\"dataframe\">\n",
       "  <thead>\n",
       "    <tr style=\"text-align: right;\">\n",
       "      <th></th>\n",
       "      <th>listing_id</th>\n",
       "      <th>0</th>\n",
       "      <th>1</th>\n",
       "      <th>2</th>\n",
       "      <th>3</th>\n",
       "      <th>4</th>\n",
       "      <th>5</th>\n",
       "      <th>6</th>\n",
       "      <th>7</th>\n",
       "      <th>8</th>\n",
       "      <th>...</th>\n",
       "      <th>20</th>\n",
       "      <th>21</th>\n",
       "      <th>22</th>\n",
       "      <th>23</th>\n",
       "      <th>24</th>\n",
       "      <th>25</th>\n",
       "      <th>26</th>\n",
       "      <th>27</th>\n",
       "      <th>28</th>\n",
       "      <th>29</th>\n",
       "    </tr>\n",
       "  </thead>\n",
       "  <tbody>\n",
       "    <tr>\n",
       "      <td>0</td>\n",
       "      <td>1855096</td>\n",
       "      <td>0.011222</td>\n",
       "      <td>-0.094722</td>\n",
       "      <td>0.596170</td>\n",
       "      <td>0.301162</td>\n",
       "      <td>-0.275293</td>\n",
       "      <td>-0.395835</td>\n",
       "      <td>-0.157063</td>\n",
       "      <td>0.170929</td>\n",
       "      <td>-0.034990</td>\n",
       "      <td>...</td>\n",
       "      <td>0.064778</td>\n",
       "      <td>0.373890</td>\n",
       "      <td>-0.274723</td>\n",
       "      <td>-0.136658</td>\n",
       "      <td>0.014417</td>\n",
       "      <td>0.173423</td>\n",
       "      <td>0.174416</td>\n",
       "      <td>-0.374185</td>\n",
       "      <td>0.047198</td>\n",
       "      <td>-0.219171</td>\n",
       "    </tr>\n",
       "    <tr>\n",
       "      <td>1</td>\n",
       "      <td>288213</td>\n",
       "      <td>-0.035756</td>\n",
       "      <td>0.011423</td>\n",
       "      <td>0.384174</td>\n",
       "      <td>0.281466</td>\n",
       "      <td>-0.253776</td>\n",
       "      <td>-0.239564</td>\n",
       "      <td>-0.202486</td>\n",
       "      <td>0.131467</td>\n",
       "      <td>-0.082394</td>\n",
       "      <td>...</td>\n",
       "      <td>0.047840</td>\n",
       "      <td>0.328990</td>\n",
       "      <td>-0.257888</td>\n",
       "      <td>-0.116482</td>\n",
       "      <td>0.045938</td>\n",
       "      <td>0.118356</td>\n",
       "      <td>0.078717</td>\n",
       "      <td>-0.251858</td>\n",
       "      <td>0.064654</td>\n",
       "      <td>-0.155023</td>\n",
       "    </tr>\n",
       "    <tr>\n",
       "      <td>2</td>\n",
       "      <td>2933105</td>\n",
       "      <td>0.003646</td>\n",
       "      <td>0.027572</td>\n",
       "      <td>0.150446</td>\n",
       "      <td>0.130758</td>\n",
       "      <td>-0.107349</td>\n",
       "      <td>-0.112698</td>\n",
       "      <td>-0.079841</td>\n",
       "      <td>0.074676</td>\n",
       "      <td>-0.019224</td>\n",
       "      <td>...</td>\n",
       "      <td>0.036952</td>\n",
       "      <td>0.142587</td>\n",
       "      <td>-0.108167</td>\n",
       "      <td>-0.066597</td>\n",
       "      <td>0.026918</td>\n",
       "      <td>0.063162</td>\n",
       "      <td>0.050679</td>\n",
       "      <td>-0.109110</td>\n",
       "      <td>0.023069</td>\n",
       "      <td>-0.067622</td>\n",
       "    </tr>\n",
       "    <tr>\n",
       "      <td>3</td>\n",
       "      <td>2114753</td>\n",
       "      <td>-0.002831</td>\n",
       "      <td>-0.015521</td>\n",
       "      <td>0.184841</td>\n",
       "      <td>0.122257</td>\n",
       "      <td>-0.119413</td>\n",
       "      <td>-0.098838</td>\n",
       "      <td>-0.072901</td>\n",
       "      <td>0.048745</td>\n",
       "      <td>-0.013147</td>\n",
       "      <td>...</td>\n",
       "      <td>0.042149</td>\n",
       "      <td>0.144170</td>\n",
       "      <td>-0.126314</td>\n",
       "      <td>-0.042753</td>\n",
       "      <td>0.029770</td>\n",
       "      <td>0.061967</td>\n",
       "      <td>0.041092</td>\n",
       "      <td>-0.119954</td>\n",
       "      <td>0.041911</td>\n",
       "      <td>-0.051719</td>\n",
       "    </tr>\n",
       "    <tr>\n",
       "      <td>4</td>\n",
       "      <td>13839129</td>\n",
       "      <td>-0.016396</td>\n",
       "      <td>0.000779</td>\n",
       "      <td>0.180464</td>\n",
       "      <td>0.124402</td>\n",
       "      <td>-0.090713</td>\n",
       "      <td>-0.107287</td>\n",
       "      <td>-0.083391</td>\n",
       "      <td>0.054984</td>\n",
       "      <td>-0.046333</td>\n",
       "      <td>...</td>\n",
       "      <td>0.034941</td>\n",
       "      <td>0.147918</td>\n",
       "      <td>-0.094317</td>\n",
       "      <td>-0.055661</td>\n",
       "      <td>0.012782</td>\n",
       "      <td>0.050207</td>\n",
       "      <td>0.032089</td>\n",
       "      <td>-0.113981</td>\n",
       "      <td>0.037086</td>\n",
       "      <td>-0.089028</td>\n",
       "    </tr>\n",
       "  </tbody>\n",
       "</table>\n",
       "<p>5 rows × 31 columns</p>\n",
       "</div>"
      ],
      "text/plain": [
       "  listing_id         0         1         2         3         4         5  \\\n",
       "0    1855096  0.011222 -0.094722  0.596170  0.301162 -0.275293 -0.395835   \n",
       "1     288213 -0.035756  0.011423  0.384174  0.281466 -0.253776 -0.239564   \n",
       "2    2933105  0.003646  0.027572  0.150446  0.130758 -0.107349 -0.112698   \n",
       "3    2114753 -0.002831 -0.015521  0.184841  0.122257 -0.119413 -0.098838   \n",
       "4   13839129 -0.016396  0.000779  0.180464  0.124402 -0.090713 -0.107287   \n",
       "\n",
       "          6         7         8  ...        20        21        22        23  \\\n",
       "0 -0.157063  0.170929 -0.034990  ...  0.064778  0.373890 -0.274723 -0.136658   \n",
       "1 -0.202486  0.131467 -0.082394  ...  0.047840  0.328990 -0.257888 -0.116482   \n",
       "2 -0.079841  0.074676 -0.019224  ...  0.036952  0.142587 -0.108167 -0.066597   \n",
       "3 -0.072901  0.048745 -0.013147  ...  0.042149  0.144170 -0.126314 -0.042753   \n",
       "4 -0.083391  0.054984 -0.046333  ...  0.034941  0.147918 -0.094317 -0.055661   \n",
       "\n",
       "         24        25        26        27        28        29  \n",
       "0  0.014417  0.173423  0.174416 -0.374185  0.047198 -0.219171  \n",
       "1  0.045938  0.118356  0.078717 -0.251858  0.064654 -0.155023  \n",
       "2  0.026918  0.063162  0.050679 -0.109110  0.023069 -0.067622  \n",
       "3  0.029770  0.061967  0.041092 -0.119954  0.041911 -0.051719  \n",
       "4  0.012782  0.050207  0.032089 -0.113981  0.037086 -0.089028  \n",
       "\n",
       "[5 rows x 31 columns]"
      ]
     },
     "execution_count": 33,
     "metadata": {},
     "output_type": "execute_result"
    }
   ],
   "source": [
    "list_embed_df.head()"
   ]
  },
  {
   "cell_type": "code",
   "execution_count": 34,
   "metadata": {},
   "outputs": [],
   "source": [
    "airbnb_list_df = airbnb_df.drop_duplicates(subset=['listing_id'])"
   ]
  },
  {
   "cell_type": "markdown",
   "metadata": {},
   "source": [
    "### 5. Creating clusters using learned embeddings"
   ]
  },
  {
   "cell_type": "code",
   "execution_count": 36,
   "metadata": {},
   "outputs": [],
   "source": [
    "from sklearn.cluster import KMeans\n",
    "kmeans = KMeans(n_clusters=4)\n",
    "y_pred = kmeans.fit_predict(list_embed_df)"
   ]
  },
  {
   "cell_type": "code",
   "execution_count": 37,
   "metadata": {},
   "outputs": [],
   "source": [
    "list_embed_df['cluster'] = y_pred"
   ]
  },
  {
   "cell_type": "code",
   "execution_count": 38,
   "metadata": {},
   "outputs": [
    {
     "data": {
      "text/plain": [
       "2    3222\n",
       "3    2969\n",
       "0    2486\n",
       "1    1758\n",
       "Name: cluster, dtype: int64"
      ]
     },
     "execution_count": 38,
     "metadata": {},
     "output_type": "execute_result"
    }
   ],
   "source": [
    "list_embed_df.cluster.value_counts()"
   ]
  },
  {
   "cell_type": "code",
   "execution_count": 39,
   "metadata": {},
   "outputs": [],
   "source": [
    "###merging with listing information"
   ]
  },
  {
   "cell_type": "code",
   "execution_count": 40,
   "metadata": {},
   "outputs": [],
   "source": [
    "listing_cluster = pd.merge(left=list_embed_df, right = airbnb_list_df, how = 'left', left_on='listing_id',right_on='listing_id')"
   ]
  },
  {
   "cell_type": "code",
   "execution_count": 41,
   "metadata": {},
   "outputs": [
    {
     "data": {
      "text/html": [
       "<div>\n",
       "<style scoped>\n",
       "    .dataframe tbody tr th:only-of-type {\n",
       "        vertical-align: middle;\n",
       "    }\n",
       "\n",
       "    .dataframe tbody tr th {\n",
       "        vertical-align: top;\n",
       "    }\n",
       "\n",
       "    .dataframe thead th {\n",
       "        text-align: right;\n",
       "    }\n",
       "</style>\n",
       "<table border=\"1\" class=\"dataframe\">\n",
       "  <thead>\n",
       "    <tr style=\"text-align: right;\">\n",
       "      <th></th>\n",
       "      <th>listing_id</th>\n",
       "      <th>0</th>\n",
       "      <th>1</th>\n",
       "      <th>2</th>\n",
       "      <th>3</th>\n",
       "      <th>4</th>\n",
       "      <th>5</th>\n",
       "      <th>6</th>\n",
       "      <th>7</th>\n",
       "      <th>8</th>\n",
       "      <th>...</th>\n",
       "      <th>latitude</th>\n",
       "      <th>longitude</th>\n",
       "      <th>room_type</th>\n",
       "      <th>price</th>\n",
       "      <th>minimum_nights</th>\n",
       "      <th>number_of_reviews</th>\n",
       "      <th>reviews_per_month</th>\n",
       "      <th>calculated_host_listings_count</th>\n",
       "      <th>availability_365</th>\n",
       "      <th>city</th>\n",
       "    </tr>\n",
       "  </thead>\n",
       "  <tbody>\n",
       "    <tr>\n",
       "      <td>0</td>\n",
       "      <td>1855096</td>\n",
       "      <td>0.011222</td>\n",
       "      <td>-0.094722</td>\n",
       "      <td>0.596170</td>\n",
       "      <td>0.301162</td>\n",
       "      <td>-0.275293</td>\n",
       "      <td>-0.395835</td>\n",
       "      <td>-0.157063</td>\n",
       "      <td>0.170929</td>\n",
       "      <td>-0.034990</td>\n",
       "      <td>...</td>\n",
       "      <td>37.76458</td>\n",
       "      <td>-122.39335</td>\n",
       "      <td>Entire home/apt</td>\n",
       "      <td>190</td>\n",
       "      <td>2</td>\n",
       "      <td>305</td>\n",
       "      <td>4.39</td>\n",
       "      <td>1</td>\n",
       "      <td>283</td>\n",
       "      <td>san fransisco</td>\n",
       "    </tr>\n",
       "    <tr>\n",
       "      <td>1</td>\n",
       "      <td>288213</td>\n",
       "      <td>-0.035756</td>\n",
       "      <td>0.011423</td>\n",
       "      <td>0.384174</td>\n",
       "      <td>0.281466</td>\n",
       "      <td>-0.253776</td>\n",
       "      <td>-0.239564</td>\n",
       "      <td>-0.202486</td>\n",
       "      <td>0.131467</td>\n",
       "      <td>-0.082394</td>\n",
       "      <td>...</td>\n",
       "      <td>37.75971</td>\n",
       "      <td>-122.38833</td>\n",
       "      <td>Entire home/apt</td>\n",
       "      <td>190</td>\n",
       "      <td>2</td>\n",
       "      <td>178</td>\n",
       "      <td>1.95</td>\n",
       "      <td>1</td>\n",
       "      <td>233</td>\n",
       "      <td>san fransisco</td>\n",
       "    </tr>\n",
       "    <tr>\n",
       "      <td>2</td>\n",
       "      <td>2933105</td>\n",
       "      <td>0.003646</td>\n",
       "      <td>0.027572</td>\n",
       "      <td>0.150446</td>\n",
       "      <td>0.130758</td>\n",
       "      <td>-0.107349</td>\n",
       "      <td>-0.112698</td>\n",
       "      <td>-0.079841</td>\n",
       "      <td>0.074676</td>\n",
       "      <td>-0.019224</td>\n",
       "      <td>...</td>\n",
       "      <td>37.76912</td>\n",
       "      <td>-122.43199</td>\n",
       "      <td>Private room</td>\n",
       "      <td>110</td>\n",
       "      <td>2</td>\n",
       "      <td>161</td>\n",
       "      <td>2.54</td>\n",
       "      <td>1</td>\n",
       "      <td>36</td>\n",
       "      <td>san fransisco</td>\n",
       "    </tr>\n",
       "    <tr>\n",
       "      <td>3</td>\n",
       "      <td>2114753</td>\n",
       "      <td>-0.002831</td>\n",
       "      <td>-0.015521</td>\n",
       "      <td>0.184841</td>\n",
       "      <td>0.122257</td>\n",
       "      <td>-0.119413</td>\n",
       "      <td>-0.098838</td>\n",
       "      <td>-0.072901</td>\n",
       "      <td>0.048745</td>\n",
       "      <td>-0.013147</td>\n",
       "      <td>...</td>\n",
       "      <td>45.52078</td>\n",
       "      <td>-122.62286</td>\n",
       "      <td>Private room</td>\n",
       "      <td>75</td>\n",
       "      <td>2</td>\n",
       "      <td>138</td>\n",
       "      <td>2.07</td>\n",
       "      <td>2</td>\n",
       "      <td>343</td>\n",
       "      <td>portland</td>\n",
       "    </tr>\n",
       "    <tr>\n",
       "      <td>4</td>\n",
       "      <td>13839129</td>\n",
       "      <td>-0.016396</td>\n",
       "      <td>0.000779</td>\n",
       "      <td>0.180464</td>\n",
       "      <td>0.124402</td>\n",
       "      <td>-0.090713</td>\n",
       "      <td>-0.107287</td>\n",
       "      <td>-0.083391</td>\n",
       "      <td>0.054984</td>\n",
       "      <td>-0.046333</td>\n",
       "      <td>...</td>\n",
       "      <td>45.52935</td>\n",
       "      <td>-122.68282</td>\n",
       "      <td>Entire home/apt</td>\n",
       "      <td>280</td>\n",
       "      <td>1</td>\n",
       "      <td>210</td>\n",
       "      <td>5.75</td>\n",
       "      <td>1</td>\n",
       "      <td>308</td>\n",
       "      <td>portland</td>\n",
       "    </tr>\n",
       "  </tbody>\n",
       "</table>\n",
       "<p>5 rows × 45 columns</p>\n",
       "</div>"
      ],
      "text/plain": [
       "  listing_id         0         1         2         3         4         5  \\\n",
       "0    1855096  0.011222 -0.094722  0.596170  0.301162 -0.275293 -0.395835   \n",
       "1     288213 -0.035756  0.011423  0.384174  0.281466 -0.253776 -0.239564   \n",
       "2    2933105  0.003646  0.027572  0.150446  0.130758 -0.107349 -0.112698   \n",
       "3    2114753 -0.002831 -0.015521  0.184841  0.122257 -0.119413 -0.098838   \n",
       "4   13839129 -0.016396  0.000779  0.180464  0.124402 -0.090713 -0.107287   \n",
       "\n",
       "          6         7         8  ...  latitude  longitude        room_type  \\\n",
       "0 -0.157063  0.170929 -0.034990  ...  37.76458 -122.39335  Entire home/apt   \n",
       "1 -0.202486  0.131467 -0.082394  ...  37.75971 -122.38833  Entire home/apt   \n",
       "2 -0.079841  0.074676 -0.019224  ...  37.76912 -122.43199     Private room   \n",
       "3 -0.072901  0.048745 -0.013147  ...  45.52078 -122.62286     Private room   \n",
       "4 -0.083391  0.054984 -0.046333  ...  45.52935 -122.68282  Entire home/apt   \n",
       "\n",
       "   price  minimum_nights  number_of_reviews  reviews_per_month  \\\n",
       "0    190               2                305               4.39   \n",
       "1    190               2                178               1.95   \n",
       "2    110               2                161               2.54   \n",
       "3     75               2                138               2.07   \n",
       "4    280               1                210               5.75   \n",
       "\n",
       "   calculated_host_listings_count  availability_365           city  \n",
       "0                               1               283  san fransisco  \n",
       "1                               1               233  san fransisco  \n",
       "2                               1                36  san fransisco  \n",
       "3                               2               343       portland  \n",
       "4                               1               308       portland  \n",
       "\n",
       "[5 rows x 45 columns]"
      ]
     },
     "execution_count": 41,
     "metadata": {},
     "output_type": "execute_result"
    }
   ],
   "source": [
    "listing_cluster.head()"
   ]
  },
  {
   "cell_type": "code",
   "execution_count": 43,
   "metadata": {},
   "outputs": [
    {
     "data": {
      "text/plain": [
       "(10435, 45)"
      ]
     },
     "execution_count": 43,
     "metadata": {},
     "output_type": "execute_result"
    }
   ],
   "source": [
    "listing_cluster.shape"
   ]
  },
  {
   "cell_type": "markdown",
   "metadata": {},
   "source": [
    "#### Plotting new york listings with cluster as hue"
   ]
  },
  {
   "cell_type": "code",
   "execution_count": 44,
   "metadata": {},
   "outputs": [
    {
     "data": {
      "text/plain": [
       "<matplotlib.axes._subplots.AxesSubplot at 0x1a28987f60>"
      ]
     },
     "execution_count": 44,
     "metadata": {},
     "output_type": "execute_result"
    },
    {
     "data": {
      "image/png": "[encoded data removed]",
      "text/plain": [
       "<Figure size 432x288 with 1 Axes>"
      ]
     },
     "metadata": {
      "needs_background": "light"
     },
     "output_type": "display_data"
    }
   ],
   "source": [
    "#new york\n",
    "sns.scatterplot(x = 'latitude', y='longitude', data = listing_cluster.loc[listing_cluster.city=='new york'],hue = 'cluster', palette='RdYlBu_r')"
   ]
  },
  {
   "cell_type": "markdown",
   "metadata": {},
   "source": [
    "#### Plotting san fransisco listings with cluster as hue"
   ]
  },
  {
   "cell_type": "code",
   "execution_count": 45,
   "metadata": {},
   "outputs": [
    {
     "data": {
      "text/plain": [
       "<matplotlib.axes._subplots.AxesSubplot at 0x1a2859e4e0>"
      ]
     },
     "execution_count": 45,
     "metadata": {},
     "output_type": "execute_result"
    },
    {
     "data": {
      "image/png": "[encoded data removed]",
      "text/plain": [
       "<Figure size 432x288 with 1 Axes>"
      ]
     },
     "metadata": {
      "needs_background": "light"
     },
     "output_type": "display_data"
    }
   ],
   "source": [
    "#san fransisco\n",
    "sns.scatterplot(x = 'latitude', y='longitude', data = listing_cluster.loc[listing_cluster.city=='san fransisco'],hue = 'cluster', palette='RdYlBu_r')"
   ]
  },
  {
   "cell_type": "markdown",
   "metadata": {},
   "source": [
    "#### Plotting average price for different room type in each cluster"
   ]
  },
  {
   "cell_type": "code",
   "execution_count": 60,
   "metadata": {},
   "outputs": [],
   "source": [
    "ct = pd.crosstab(listing_cluster.cluster, listing_cluster.room_type, values=listing_cluster.price,aggfunc=np.mean)"
   ]
  },
  {
   "cell_type": "code",
   "execution_count": 61,
   "metadata": {},
   "outputs": [
    {
     "data": {
      "image/png": "[encoded data removed]",
      "text/plain": [
       "<Figure size 432x288 with 1 Axes>"
      ]
     },
     "metadata": {
      "needs_background": "light"
     },
     "output_type": "display_data"
    }
   ],
   "source": [
    "ct.plot.bar()\n",
    "plt.title(label='Price vs cluster')\n",
    "plt.ylabel('Average price')\n",
    "plt.show()"
   ]
  },
  {
   "cell_type": "markdown",
   "metadata": {},
   "source": [
    "#### Plotting number of reviews for different room types in each cluster"
   ]
  },
  {
   "cell_type": "code",
   "execution_count": 48,
   "metadata": {},
   "outputs": [],
   "source": [
    "ct = pd.crosstab(listing_cluster.cluster, listing_cluster.room_type, values=listing_cluster.number_of_reviews,aggfunc=np.mean)"
   ]
  },
  {
   "cell_type": "code",
   "execution_count": 58,
   "metadata": {},
   "outputs": [
    {
     "data": {
      "image/png": "[encoded data removed]",
      "text/plain": [
       "<Figure size 432x288 with 1 Axes>"
      ]
     },
     "metadata": {
      "needs_background": "light"
     },
     "output_type": "display_data"
    }
   ],
   "source": [
    "ct.plot.bar()\n",
    "plt.title(label='Number of reviewers vs cluster')\n",
    "plt.ylabel('Number of reviews')\n",
    "plt.show()"
   ]
  },
  {
   "cell_type": "code",
   "execution_count": 1,
   "metadata": {},
   "outputs": [],
   "source": [
    "#listings with higher average number of listings are grouped in cluster 2 "
   ]
  }
 ],
 "metadata": {
  "kernelspec": {
   "display_name": "Python 3",
   "language": "python",
   "name": "python3"
  },
  "language_info": {
   "codemirror_mode": {
    "name": "ipython",
    "version": 3
   },
   "file_extension": ".py",
   "mimetype": "text/x-python",
   "name": "python",
   "nbconvert_exporter": "python",
   "pygments_lexer": "ipython3",
   "version": "3.6.8"
  }
 },
 "nbformat": 4,
 "nbformat_minor": 2
}
