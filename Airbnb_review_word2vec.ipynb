{
 "cells": [
  {
   "cell_type": "markdown",
   "metadata": {},
   "source": [
    "## Word Embedding using Word2Vec"
   ]
  },
  {
   "cell_type": "markdown",
   "metadata": {},
   "source": [
    "### 1. Importing libraries and data"
   ]
  },
  {
   "cell_type": "code",
   "execution_count": 6,
   "metadata": {},
   "outputs": [],
   "source": [
    "#Import necessary libraries\n",
    "import pandas as pd\n",
    "import numpy as np\n",
    "import matplotlib.pyplot as plt\n",
    "import seaborn as sns\n",
    "\n",
    "import gensim\n",
    "#Gensim is an open-source library for unsupervised topic modeling and natural language processing,\n",
    "#using modern statistical machine learning."
   ]
  },
  {
   "cell_type": "code",
   "execution_count": 7,
   "metadata": {},
   "outputs": [],
   "source": [
    "#Dataset obtained from airbnb open data site >> http://insideairbnb.com/get-the-data.html, detailed review for NYC\n",
    "review_df = pd.read_csv('Dataset/reviews.csv')"
   ]
  },
  {
   "cell_type": "markdown",
   "metadata": {},
   "source": [
    "### 2. Viewing dataset"
   ]
  },
  {
   "cell_type": "code",
   "execution_count": 8,
   "metadata": {},
   "outputs": [
    {
     "data": {
      "text/html": [
       "<div>\n",
       "<style scoped>\n",
       "    .dataframe tbody tr th:only-of-type {\n",
       "        vertical-align: middle;\n",
       "    }\n",
       "\n",
       "    .dataframe tbody tr th {\n",
       "        vertical-align: top;\n",
       "    }\n",
       "\n",
       "    .dataframe thead th {\n",
       "        text-align: right;\n",
       "    }\n",
       "</style>\n",
       "<table border=\"1\" class=\"dataframe\">\n",
       "  <thead>\n",
       "    <tr style=\"text-align: right;\">\n",
       "      <th></th>\n",
       "      <th>listing_id</th>\n",
       "      <th>id</th>\n",
       "      <th>date</th>\n",
       "      <th>reviewer_id</th>\n",
       "      <th>reviewer_name</th>\n",
       "      <th>comments</th>\n",
       "    </tr>\n",
       "  </thead>\n",
       "  <tbody>\n",
       "    <tr>\n",
       "      <td>0</td>\n",
       "      <td>2595</td>\n",
       "      <td>17857</td>\n",
       "      <td>2009-11-21</td>\n",
       "      <td>50679</td>\n",
       "      <td>Jean</td>\n",
       "      <td>Notre séjour de trois nuits.\\r\\nNous avons app...</td>\n",
       "    </tr>\n",
       "    <tr>\n",
       "      <td>1</td>\n",
       "      <td>2595</td>\n",
       "      <td>19176</td>\n",
       "      <td>2009-12-05</td>\n",
       "      <td>53267</td>\n",
       "      <td>Cate</td>\n",
       "      <td>Great experience.</td>\n",
       "    </tr>\n",
       "    <tr>\n",
       "      <td>2</td>\n",
       "      <td>2595</td>\n",
       "      <td>19760</td>\n",
       "      <td>2009-12-10</td>\n",
       "      <td>38960</td>\n",
       "      <td>Anita</td>\n",
       "      <td>I've stayed with my friend at the Midtown Cast...</td>\n",
       "    </tr>\n",
       "    <tr>\n",
       "      <td>3</td>\n",
       "      <td>2595</td>\n",
       "      <td>34320</td>\n",
       "      <td>2010-04-09</td>\n",
       "      <td>71130</td>\n",
       "      <td>Kai-Uwe</td>\n",
       "      <td>We've been staying here for about 9 nights, en...</td>\n",
       "    </tr>\n",
       "    <tr>\n",
       "      <td>4</td>\n",
       "      <td>2595</td>\n",
       "      <td>46312</td>\n",
       "      <td>2010-05-25</td>\n",
       "      <td>117113</td>\n",
       "      <td>Alicia</td>\n",
       "      <td>We had a wonderful stay at Jennifer's charming...</td>\n",
       "    </tr>\n",
       "  </tbody>\n",
       "</table>\n",
       "</div>"
      ],
      "text/plain": [
       "   listing_id     id        date  reviewer_id reviewer_name  \\\n",
       "0        2595  17857  2009-11-21        50679          Jean   \n",
       "1        2595  19176  2009-12-05        53267          Cate   \n",
       "2        2595  19760  2009-12-10        38960         Anita   \n",
       "3        2595  34320  2010-04-09        71130       Kai-Uwe   \n",
       "4        2595  46312  2010-05-25       117113        Alicia   \n",
       "\n",
       "                                            comments  \n",
       "0  Notre séjour de trois nuits.\\r\\nNous avons app...  \n",
       "1                                  Great experience.  \n",
       "2  I've stayed with my friend at the Midtown Cast...  \n",
       "3  We've been staying here for about 9 nights, en...  \n",
       "4  We had a wonderful stay at Jennifer's charming...  "
      ]
     },
     "execution_count": 8,
     "metadata": {},
     "output_type": "execute_result"
    }
   ],
   "source": [
    "#Display first 5 rows\n",
    "review_df.head()"
   ]
  },
  {
   "cell_type": "code",
   "execution_count": 9,
   "metadata": {},
   "outputs": [
    {
     "data": {
      "text/plain": [
       "(1143036, 6)"
      ]
     },
     "execution_count": 9,
     "metadata": {},
     "output_type": "execute_result"
    }
   ],
   "source": [
    "#There are almost 1 million reviews\n",
    "review_df.shape"
   ]
  },
  {
   "cell_type": "code",
   "execution_count": 10,
   "metadata": {},
   "outputs": [
    {
     "data": {
      "text/plain": [
       "listing_id        int64\n",
       "id                int64\n",
       "date             object\n",
       "reviewer_id       int64\n",
       "reviewer_name    object\n",
       "comments         object\n",
       "dtype: object"
      ]
     },
     "execution_count": 10,
     "metadata": {},
     "output_type": "execute_result"
    }
   ],
   "source": [
    "#datatype of each column\n",
    "review_df.dtypes"
   ]
  },
  {
   "cell_type": "code",
   "execution_count": 11,
   "metadata": {},
   "outputs": [
    {
     "data": {
      "text/plain": [
       "listing_id         0\n",
       "id                 0\n",
       "date               0\n",
       "reviewer_id        0\n",
       "reviewer_name      2\n",
       "comments         570\n",
       "dtype: int64"
      ]
     },
     "execution_count": 11,
     "metadata": {},
     "output_type": "execute_result"
    }
   ],
   "source": [
    "#Check if there are any null entries\n",
    "review_df.isnull().sum()"
   ]
  },
  {
   "cell_type": "code",
   "execution_count": 12,
   "metadata": {},
   "outputs": [],
   "source": [
    "#There are 570 null entries in comments column. Remove those rows\n",
    "review_df.dropna(inplace = True)"
   ]
  },
  {
   "cell_type": "code",
   "execution_count": 13,
   "metadata": {},
   "outputs": [
    {
     "data": {
      "text/plain": [
       "38730"
      ]
     },
     "execution_count": 13,
     "metadata": {},
     "output_type": "execute_result"
    }
   ],
   "source": [
    "#Number of unique listings in this data\n",
    "review_df.listing_id.nunique()"
   ]
  },
  {
   "cell_type": "code",
   "execution_count": 14,
   "metadata": {},
   "outputs": [
    {
     "data": {
      "text/plain": [
       "991369"
      ]
     },
     "execution_count": 14,
     "metadata": {},
     "output_type": "execute_result"
    }
   ],
   "source": [
    "#Number of unique reviewers in this data\n",
    "review_df.reviewer_id.nunique()"
   ]
  },
  {
   "cell_type": "code",
   "execution_count": 15,
   "metadata": {},
   "outputs": [],
   "source": [
    "#aggregating total number of reviews for each listing\n",
    "review_cnt = review_df.groupby('listing_id').aggregate({'comments':'count'}).reset_index().sort_values(by = 'comments', ascending = False)"
   ]
  },
  {
   "cell_type": "code",
   "execution_count": 16,
   "metadata": {},
   "outputs": [
    {
     "data": {
      "text/html": [
       "<div>\n",
       "<style scoped>\n",
       "    .dataframe tbody tr th:only-of-type {\n",
       "        vertical-align: middle;\n",
       "    }\n",
       "\n",
       "    .dataframe tbody tr th {\n",
       "        vertical-align: top;\n",
       "    }\n",
       "\n",
       "    .dataframe thead th {\n",
       "        text-align: right;\n",
       "    }\n",
       "</style>\n",
       "<table border=\"1\" class=\"dataframe\">\n",
       "  <thead>\n",
       "    <tr style=\"text-align: right;\">\n",
       "      <th></th>\n",
       "      <th>listing_id</th>\n",
       "      <th>comments</th>\n",
       "    </tr>\n",
       "  </thead>\n",
       "  <tbody>\n",
       "    <tr>\n",
       "      <td>9926</td>\n",
       "      <td>9145202</td>\n",
       "      <td>639</td>\n",
       "    </tr>\n",
       "    <tr>\n",
       "      <td>1905</td>\n",
       "      <td>903972</td>\n",
       "      <td>608</td>\n",
       "    </tr>\n",
       "    <tr>\n",
       "      <td>1904</td>\n",
       "      <td>903947</td>\n",
       "      <td>603</td>\n",
       "    </tr>\n",
       "    <tr>\n",
       "      <td>1891</td>\n",
       "      <td>891117</td>\n",
       "      <td>602</td>\n",
       "    </tr>\n",
       "    <tr>\n",
       "      <td>11154</td>\n",
       "      <td>10101135</td>\n",
       "      <td>588</td>\n",
       "    </tr>\n",
       "  </tbody>\n",
       "</table>\n",
       "</div>"
      ],
      "text/plain": [
       "       listing_id  comments\n",
       "9926      9145202       639\n",
       "1905       903972       608\n",
       "1904       903947       603\n",
       "1891       891117       602\n",
       "11154    10101135       588"
      ]
     },
     "execution_count": 16,
     "metadata": {},
     "output_type": "execute_result"
    }
   ],
   "source": [
    "#639 is the maximum number of reviews a listing has in this dataset\n",
    "review_cnt.head()"
   ]
  },
  {
   "cell_type": "code",
   "execution_count": 17,
   "metadata": {},
   "outputs": [
    {
     "data": {
      "text/plain": [
       "<matplotlib.axes._subplots.AxesSubplot at 0x1a18474240>"
      ]
     },
     "execution_count": 17,
     "metadata": {},
     "output_type": "execute_result"
    },
    {
     "data": {
      "image/png": "[encoded data removed]",
      "text/plain": [
       "<Figure size 432x288 with 1 Axes>"
      ]
     },
     "metadata": {
      "needs_background": "light"
     },
     "output_type": "display_data"
    }
   ],
   "source": [
    "#Plotting histogram for the number of reviews. Most of the listings have reviews between 1-10\n",
    "sns.distplot(review_cnt.comments, bins = 60)"
   ]
  },
  {
   "cell_type": "code",
   "execution_count": 58,
   "metadata": {},
   "outputs": [
    {
     "data": {
      "text/plain": [
       "\"L'appartement est tel que décrit , propre et agréable. Pas très loin du métro , dans un quartier tranquille .\\nLa chambre est assez spacieuse pour trois personnes, la cuisine fonctionnelle, la salle de bain également ( Lisa a même pensé aux brosses à dents!!)\\nNotre hôte, LisaRoxane a été charmante, discrète et accommodante pour notre départ tardif.nous avons pu laisser nos bagages et nous changer avant de prendre un taxi pour JFK.\\nTout était très bien, nous avons passé un excellent sejour!\\n\""
      ]
     },
     "execution_count": 58,
     "metadata": {},
     "output_type": "execute_result"
    }
   ],
   "source": [
    "#Lets take a look at an example review\n",
    "review_df['comments'][100]"
   ]
  },
  {
   "cell_type": "code",
   "execution_count": 50,
   "metadata": {},
   "outputs": [
    {
     "data": {
      "text/plain": [
       "(1142464, 6)"
      ]
     },
     "execution_count": 50,
     "metadata": {},
     "output_type": "execute_result"
    }
   ],
   "source": [
    "review_df.shape"
   ]
  },
  {
   "cell_type": "markdown",
   "metadata": {},
   "source": [
    "### 3. Cleaning reviews"
   ]
  },
  {
   "cell_type": "code",
   "execution_count": 19,
   "metadata": {},
   "outputs": [],
   "source": [
    "#Reviews cleanup : tokenize, lowercase, remove punctuation marks, and stop-words\n",
    "import string\n",
    "from nltk.tokenize import word_tokenize\n",
    "from nltk.corpus import stopwords\n",
    "\n",
    "review_lines = list()\n",
    "\n",
    "lines = review_df['comments'].values.tolist()\n",
    "\n",
    "for line in lines:\n",
    "    #Create tokens from sentence\n",
    "    tokens = word_tokenize(line)\n",
    "    \n",
    "    #Converting all the tokens into lowercase\n",
    "    tokens = [w.lower() for w in tokens]\n",
    "    \n",
    "    #Remove punctuation mark from each word\n",
    "    table = str.maketrans(\"\",\"\",string.punctuation)\n",
    "    stripped = [w.translate(table) for w in tokens]\n",
    "    \n",
    "    #Remove tokens that are not alphabetic\n",
    "    words = [word for word in stripped if word.isalpha()]\n",
    "    \n",
    "    #Filter out stop words\n",
    "    stop_words = set(stopwords.words('english'))\n",
    "    words = [w for w in words if not w in stop_words]\n",
    "    \n",
    "    #append words to list\n",
    "    review_lines.append(words)"
   ]
  },
  {
   "cell_type": "code",
   "execution_count": 20,
   "metadata": {
    "scrolled": true
   },
   "outputs": [
    {
     "name": "stdout",
     "output_type": "stream",
     "text": [
      "1142464\n"
     ]
    }
   ],
   "source": [
    "#Number of reviews in our data after all the pre-processing\n",
    "print(len(review_lines))"
   ]
  },
  {
   "cell_type": "code",
   "execution_count": 49,
   "metadata": {},
   "outputs": [
    {
     "name": "stdout",
     "output_type": "stream",
     "text": [
      "The Midtown Castle was a great choice for our weekend stay. It is centrally located, and walking distance for most of our stops. The apartment was clean, nicely decorated, and the perfect size for our trip. Jennifer was a great host, and made our self check-in very easy! She gave us all of the information we needed for a smooth trip.  I would highly recommend this place to other visitors, and would consider staying there again when we are back in NYC!\n"
     ]
    }
   ],
   "source": [
    "#Review before preprocessing\n",
    "print(review_df['comments'][20])"
   ]
  },
  {
   "cell_type": "code",
   "execution_count": 48,
   "metadata": {},
   "outputs": [
    {
     "name": "stdout",
     "output_type": "stream",
     "text": [
      "['midtown', 'castle', 'great', 'choice', 'weekend', 'stay', 'centrally', 'located', 'walking', 'distance', 'stops', 'apartment', 'clean', 'nicely', 'decorated', 'perfect', 'size', 'trip', 'jennifer', 'great', 'host', 'made', 'self', 'checkin', 'easy', 'gave', 'us', 'information', 'needed', 'smooth', 'trip', 'would', 'highly', 'recommend', 'place', 'visitors', 'would', 'consider', 'staying', 'back', 'nyc']\n"
     ]
    }
   ],
   "source": [
    "#Review after preprocessing\n",
    "print(review_lines[20])"
   ]
  },
  {
   "cell_type": "markdown",
   "metadata": {},
   "source": [
    "### 4. Training word2vec"
   ]
  },
  {
   "cell_type": "code",
   "execution_count": 21,
   "metadata": {},
   "outputs": [],
   "source": [
    "#Size of vector and window for word2vec\n",
    "EMBEDDING_SIZE =100\n",
    "WINDOW_SIZE = 5"
   ]
  },
  {
   "cell_type": "code",
   "execution_count": 22,
   "metadata": {},
   "outputs": [],
   "source": [
    "#Training a word2vec model on our cleaned dataset which is a list of words\n",
    "from gensim.models import Word2Vec\n",
    "model_w2v = Word2Vec(sentences=review_lines, size=EMBEDDING_SIZE, window=WINDOW_SIZE, sg=1, hs=0, min_count=3,workers = 4, seed=4) "
   ]
  },
  {
   "cell_type": "code",
   "execution_count": 23,
   "metadata": {},
   "outputs": [],
   "source": [
    "#min_count : ignore all words with total frequency lower than this\n",
    "#workers – Use these many worker threads to train the model (=faster training with multicore machines)\n",
    "#sg – Training algorithm: 1 for skip-gram; otherwise CBOW.\n",
    "#hs – If 1, hierarchical softmax will be used for model training. If 0, negative sampling will be used\n",
    "#seed – Seed for the random number generator. Initial vectors for each word are seeded with a hash of the concatenation of word + str(seed)."
   ]
  },
  {
   "cell_type": "code",
   "execution_count": 52,
   "metadata": {},
   "outputs": [
    {
     "data": {
      "text/plain": [
       "100"
      ]
     },
     "execution_count": 52,
     "metadata": {},
     "output_type": "execute_result"
    }
   ],
   "source": [
    "#Vector dimension for each word\n",
    "model_w2v.vector_size"
   ]
  },
  {
   "cell_type": "code",
   "execution_count": 55,
   "metadata": {},
   "outputs": [
    {
     "data": {
      "text/plain": [
       "94416"
      ]
     },
     "execution_count": 55,
     "metadata": {},
     "output_type": "execute_result"
    }
   ],
   "source": [
    "#Number of unique words\n",
    "len(model_w2v.wv.vocab)"
   ]
  },
  {
   "cell_type": "markdown",
   "metadata": {},
   "source": [
    "### 5. Model saving and loading"
   ]
  },
  {
   "cell_type": "code",
   "execution_count": 24,
   "metadata": {},
   "outputs": [],
   "source": [
    "#Save the trained model\n",
    "model_w2v.save('airbnb_model.model')"
   ]
  },
  {
   "cell_type": "code",
   "execution_count": 25,
   "metadata": {},
   "outputs": [],
   "source": [
    "#load the model trained on our corpus\n",
    "model_saved = Word2Vec.load('airbnb_model.model')"
   ]
  },
  {
   "cell_type": "markdown",
   "metadata": {},
   "source": [
    "### 6. Result"
   ]
  },
  {
   "cell_type": "code",
   "execution_count": 26,
   "metadata": {},
   "outputs": [
    {
     "name": "stdout",
     "output_type": "stream",
     "text": [
      "['difficile', 'si', 'pas', 'habitué', 'jennifer', 'correcte', 'remboursement', 'caution', 'était', 'rapide', 'part', 'ces', 'détails', 'court', 'passé', 'jai', 'possibilité', 'revenir', 'sur', 'vacances', 'je', 'reprendrai', 'à', 'midtown', 'castle', 'jean', 'possession', 'ile', 'réunion', 'great', 'experience', 'stayed', 'friend', 'six', 'days', 'lovely', 'place', 'big', 'spacious', 'room', 'roof', 'really', 'makes', 'feel', 'like', 'staying', 'location', 'perfect', 'steps', 'macy']\n"
     ]
    }
   ],
   "source": [
    "#Printing the vocabulary \n",
    "vocab = list(model_w2v.wv.vocab)\n",
    "print(vocab[50:100])"
   ]
  },
  {
   "cell_type": "code",
   "execution_count": 27,
   "metadata": {},
   "outputs": [
    {
     "data": {
      "text/plain": [
       "100"
      ]
     },
     "execution_count": 27,
     "metadata": {},
     "output_type": "execute_result"
    }
   ],
   "source": [
    "#Vector size for each word\n",
    "model_w2v.vector_size"
   ]
  },
  {
   "cell_type": "code",
   "execution_count": 28,
   "metadata": {},
   "outputs": [
    {
     "data": {
      "text/plain": [
       "array([-0.08653334, -0.6106071 , -0.41853306,  0.03007984,  0.01005792,\n",
       "        0.33923474,  0.5310961 , -0.3685299 , -0.03650644, -0.2798122 ,\n",
       "       -0.3607964 ,  0.11349513,  0.10972715,  0.17226698, -0.4610637 ,\n",
       "        0.11351141,  0.15219958, -0.4055845 , -0.03373929, -0.08265369,\n",
       "       -0.06079018, -0.06560601, -0.10936774,  0.24907511,  0.0087022 ,\n",
       "       -0.09687304, -0.25126177,  0.2638443 ,  0.3671965 ,  0.4852466 ,\n",
       "       -0.14594021, -0.00806846, -0.08359358,  0.13623747, -0.74597895,\n",
       "       -0.45576113,  0.09269127,  0.11170986,  0.04807548, -0.00952091,\n",
       "        0.08763056,  0.00583201,  0.21537836,  0.1945478 ,  0.07388721,\n",
       "        0.08248948,  0.17196006,  0.05941069, -0.47340366,  0.23086719,\n",
       "       -0.17785998, -0.07067276, -0.03502363,  0.17770194,  0.009686  ,\n",
       "       -0.08309583,  0.2729562 ,  0.5033552 ,  0.11067104,  0.2742271 ,\n",
       "        0.13204831,  0.29559165, -0.05023228, -0.5231171 ,  0.24047068,\n",
       "       -0.14184578, -0.32505193,  0.29703274,  0.34943336,  0.1698646 ,\n",
       "       -0.07232655, -0.05792387, -0.9920956 ,  0.1671232 , -0.2966048 ,\n",
       "       -0.23652361, -0.14054477, -0.0418704 , -0.1268654 , -0.29366162,\n",
       "        0.5231739 ,  0.64307195, -0.11744374, -0.5739773 , -0.03040001,\n",
       "       -0.14233364,  0.11860499,  0.23769848,  0.10131575, -0.12037887,\n",
       "        0.04392412, -0.17023355,  0.06672142,  0.15518756, -0.46170688,\n",
       "        0.38015658,  0.03878637, -0.09938765, -0.18151402, -0.09291829],\n",
       "      dtype=float32)"
      ]
     },
     "execution_count": 28,
     "metadata": {},
     "output_type": "execute_result"
    }
   ],
   "source": [
    "#Vector for word \"room\"\n",
    "model_w2v.wv['spacious']"
   ]
  },
  {
   "cell_type": "code",
   "execution_count": 65,
   "metadata": {},
   "outputs": [],
   "source": [
    "#Search query\n",
    "search_query = 'airbnb'\n",
    "topn = 15\n",
    "#Example : wonderful, safe, canceled, bad, posh, house, friend, unpleasant"
   ]
  },
  {
   "attachments": {
    "Screen%20Shot%202019-09-17%20at%203.34.36%20PM.png": {
     "image/png": "[encoded data removed]"
    }
   },
   "cell_type": "markdown",
   "metadata": {},
   "source": [
    "#### Calculating similarity using most_similar method\n",
    "\n",
    "##### most_similar( ) : Find the top-N most similar words. This method computes cosine similarity between a simple mean of the projection weight vectors of the given words and the vectors for each word in the model.\n",
    "\n",
    "![Screen%20Shot%202019-09-17%20at%203.34.36%20PM.png](attachment:Screen%20Shot%202019-09-17%20at%203.34.36%20PM.png)"
   ]
  },
  {
   "cell_type": "code",
   "execution_count": 66,
   "metadata": {},
   "outputs": [
    {
     "data": {
      "text/plain": [
       "[('abnb', 0.8496731519699097),\n",
       " ('bnb', 0.8200206756591797),\n",
       " ('aribnb', 0.8152755498886108),\n",
       " ('airnb', 0.8113374710083008),\n",
       " ('airbnd', 0.7901395559310913),\n",
       " ('aibnb', 0.7798537015914917),\n",
       " ('airnbnb', 0.7775635123252869),\n",
       " ('arbnb', 0.7751783132553101),\n",
       " ('airb', 0.7665168046951294),\n",
       " ('abb', 0.7652177810668945)]"
      ]
     },
     "execution_count": 66,
     "metadata": {},
     "output_type": "execute_result"
    }
   ],
   "source": [
    "#most_similar words for a given query\n",
    "model_w2v.wv.most_similar(search_query, topn = 10)"
   ]
  },
  {
   "cell_type": "code",
   "execution_count": 31,
   "metadata": {},
   "outputs": [],
   "source": [
    "#Using saved model\n",
    "#model_saved.wv.most_similar(search_query, topn = topn)"
   ]
  },
  {
   "cell_type": "code",
   "execution_count": 32,
   "metadata": {},
   "outputs": [
    {
     "name": "stderr",
     "output_type": "stream",
     "text": [
      "/Users/ramya.gowda/miniconda3/envs/tensorflow/lib/python3.6/site-packages/gensim/models/keyedvectors.py:877: FutureWarning: arrays to stack must be passed as a \"sequence\" type such as list or tuple. Support for non-sequence iterables such as generators is deprecated as of NumPy 1.16 and will raise an error in the future.\n",
      "  vectors = vstack(self.word_vec(word, use_norm=True) for word in used_words).astype(REAL)\n"
     ]
    },
    {
     "data": {
      "text/plain": [
       "'dirty'"
      ]
     },
     "execution_count": 32,
     "metadata": {},
     "output_type": "execute_result"
    }
   ],
   "source": [
    "#example for doesnt match\n",
    "model_saved.wv.doesnt_match(['comfotable','cozy','dirty','clean','safe','nice'])"
   ]
  },
  {
   "cell_type": "code",
   "execution_count": 64,
   "metadata": {},
   "outputs": [
    {
     "name": "stderr",
     "output_type": "stream",
     "text": [
      "/Users/ramya.gowda/miniconda3/envs/tensorflow/lib/python3.6/site-packages/gensim/models/keyedvectors.py:877: FutureWarning: arrays to stack must be passed as a \"sequence\" type such as list or tuple. Support for non-sequence iterables such as generators is deprecated as of NumPy 1.16 and will raise an error in the future.\n",
      "  vectors = vstack(self.word_vec(word, use_norm=True) for word in used_words).astype(REAL)\n"
     ]
    },
    {
     "data": {
      "text/plain": [
       "'daughter'"
      ]
     },
     "execution_count": 64,
     "metadata": {},
     "output_type": "execute_result"
    }
   ],
   "source": [
    "model_saved.wv.doesnt_match(['mother','sister','aunt','daughter'])"
   ]
  },
  {
   "cell_type": "markdown",
   "metadata": {},
   "source": [
    "### Using pre-trained model"
   ]
  },
  {
   "cell_type": "code",
   "execution_count": 35,
   "metadata": {},
   "outputs": [],
   "source": [
    "#Use pretrained model - \n",
    "# Load Google's pre-trained Word2Vec model.\n",
    "model = gensim.models.KeyedVectors.load_word2vec_format('pretrained-model/GoogleNews-vectors-negative300.bin', binary=True)"
   ]
  },
  {
   "cell_type": "code",
   "execution_count": 37,
   "metadata": {},
   "outputs": [
    {
     "data": {
      "text/plain": [
       "300"
      ]
     },
     "execution_count": 37,
     "metadata": {},
     "output_type": "execute_result"
    }
   ],
   "source": [
    "model.vector_size"
   ]
  },
  {
   "cell_type": "code",
   "execution_count": 38,
   "metadata": {},
   "outputs": [
    {
     "data": {
      "text/plain": [
       "3000000"
      ]
     },
     "execution_count": 38,
     "metadata": {},
     "output_type": "execute_result"
    }
   ],
   "source": [
    "len(model.vocab)"
   ]
  },
  {
   "cell_type": "code",
   "execution_count": 39,
   "metadata": {},
   "outputs": [],
   "source": [
    "vocab_list = list(model.vocab.keys())"
   ]
  },
  {
   "cell_type": "code",
   "execution_count": 68,
   "metadata": {},
   "outputs": [
    {
     "data": {
      "text/plain": [
       "[('Logitech_MX_Revolution', 0.6175231337547302),\n",
       " ('Razer_Mamba', 0.5994571447372437),\n",
       " ('mice', 0.5896885395050049),\n",
       " ('cordless_laser', 0.5652030110359192),\n",
       " ('VX_Nano', 0.5619357824325562),\n",
       " ('Logitech_MX###', 0.5604779720306396),\n",
       " ('keyboard_arrow_keys', 0.5545550584793091),\n",
       " ('Logitech_G9x', 0.5538492202758789),\n",
       " ('NOTE_TO_READERS_Hovering', 0.5520267486572266),\n",
       " ('Razer_Abyssus', 0.5489388704299927)]"
      ]
     },
     "execution_count": 68,
     "metadata": {},
     "output_type": "execute_result"
    }
   ],
   "source": [
    "model.most_similar('mouse')"
   ]
  },
  {
   "cell_type": "markdown",
   "metadata": {},
   "source": [
    "### review search"
   ]
  },
  {
   "cell_type": "code",
   "execution_count": 41,
   "metadata": {},
   "outputs": [],
   "source": [
    "term = 'mouse'"
   ]
  },
  {
   "cell_type": "code",
   "execution_count": 42,
   "metadata": {},
   "outputs": [],
   "source": [
    "neg_reviews = review_df.comments.loc[review_df['comments'].str.contains(term)].reset_index()"
   ]
  },
  {
   "cell_type": "code",
   "execution_count": 43,
   "metadata": {},
   "outputs": [
    {
     "data": {
      "text/plain": [
       "\"all in all a nice apartment. good space. nothing really to do around the neighborhood. the subway is about 15 minutes walk. Manhattan is about 30 minutes ride. nichelle's friend came to let us in.  she was nice and gave us some recommendations.  we didn't see nichelle the whole time until the check out. our flight back home was only at 6pm.  check out was at 11 am, she let us stay until 12 , and then we had to wait in the street for a taxi.   we had a mouse in the apartment.\""
      ]
     },
     "execution_count": 43,
     "metadata": {},
     "output_type": "execute_result"
    }
   ],
   "source": [
    "neg_reviews.comments.iloc[4]"
   ]
  },
  {
   "cell_type": "code",
   "execution_count": null,
   "metadata": {},
   "outputs": [],
   "source": []
  },
  {
   "cell_type": "code",
   "execution_count": null,
   "metadata": {},
   "outputs": [],
   "source": []
  }
 ],
 "metadata": {
  "kernelspec": {
   "display_name": "Python 3",
   "language": "python",
   "name": "python3"
  },
  "language_info": {
   "codemirror_mode": {
    "name": "ipython",
    "version": 3
   },
   "file_extension": ".py",
   "mimetype": "text/x-python",
   "name": "python",
   "nbconvert_exporter": "python",
   "pygments_lexer": "ipython3",
   "version": "3.6.8"
  }
 },
 "nbformat": 4,
 "nbformat_minor": 2
}
