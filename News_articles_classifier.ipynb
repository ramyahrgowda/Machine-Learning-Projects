{
 "cells": [
  {
   "cell_type": "markdown",
   "metadata": {},
   "source": [
    "### Building a text classifier for classifying news articles"
   ]
  },
  {
   "cell_type": "markdown",
   "metadata": {},
   "source": [
    "In this notebook, I will\n",
    "1. Scrape data from a website called Inshorts\n",
    "2. Scrape data for 3 news categories : sports, world, technology\n",
    "3. Scrape news headline and news article\n",
    "3. Build a text classifier to classify the news articles\n",
    "\n",
    "Disclosure : web scraping code is referred from https://towardsdatascience.com/a-practitioners-guide-to-natural-language-processing-part-i-processing-understanding-text-9f4abfd13e72"
   ]
  },
  {
   "cell_type": "code",
   "execution_count": 1,
   "metadata": {},
   "outputs": [],
   "source": [
    "#Import necessary libraries\n",
    "import requests\n",
    "from bs4 import BeautifulSoup\n",
    "import pandas as pd\n",
    "import numpy as np\n",
    "import matplotlib.pyplot as plt\n",
    "import seaborn as sns\n",
    "import warnings\n",
    "warnings.filterwarnings('ignore')\n",
    "\n",
    "%matplotlib inline"
   ]
  },
  {
   "cell_type": "markdown",
   "metadata": {},
   "source": [
    "1. requests to get the access to HTML content from the landing page\n",
    "2. BeautifulSoup to parse the data and extract headline and articls for all the 3 categories (sports, technology and world affairs)"
   ]
  },
  {
   "cell_type": "code",
   "execution_count": 2,
   "metadata": {},
   "outputs": [],
   "source": [
    "#urls to the news articles\n",
    "seed_urls = ['https://www.inshorts.com/en/read/sports',\n",
    "            'https://www.inshorts.com/en/read/technology',\n",
    "            'https://www.inshorts.com/en/read/world']"
   ]
  },
  {
   "cell_type": "code",
   "execution_count": 3,
   "metadata": {},
   "outputs": [],
   "source": [
    "#Function for scraping the data from given urls\n",
    "def build_datasets(seed_urls):\n",
    "    \n",
    "    news_data = []\n",
    "    \n",
    "    for url in seed_urls:\n",
    "        news_category = url.split('/')[-1]\n",
    "        \n",
    "        data = requests.get(url)\n",
    "        soup = BeautifulSoup(data.content,'html.parser')\n",
    "        \n",
    "        news_articles = [{'news_headline': headline.find('span', \n",
    "                                                         attrs={\"itemprop\": \"headline\"}).string,\n",
    "                          'news_article': article.find('div', \n",
    "                                                       attrs={\"itemprop\": \"articleBody\"}).string,\n",
    "                          'news_category': news_category}\n",
    "                         \n",
    "                            for headline, article in \n",
    "                             zip(soup.find_all('div', \n",
    "                                               class_=[\"news-card-title news-right-box\"]),\n",
    "                                 soup.find_all('div', \n",
    "                                               class_=[\"news-card-content news-right-box\"]))\n",
    "                        ]\n",
    "        news_data.extend(news_articles)\n",
    "        \n",
    "    df =  pd.DataFrame(news_data)\n",
    "    df = df[['news_headline', 'news_article', 'news_category']]\n",
    "  \n",
    "    return df"
   ]
  },
  {
   "cell_type": "code",
   "execution_count": 4,
   "metadata": {},
   "outputs": [],
   "source": [
    "news_df_new = build_datasets(seed_urls)"
   ]
  },
  {
   "cell_type": "code",
   "execution_count": 5,
   "metadata": {},
   "outputs": [
    {
     "data": {
      "text/plain": [
       "<matplotlib.axes._subplots.AxesSubplot at 0x10fae6320>"
      ]
     },
     "execution_count": 5,
     "metadata": {},
     "output_type": "execute_result"
    },
    {
     "data": {
      "image/png": "[encoded data removed]",
      "text/plain": [
       "<Figure size 432x360 with 1 Axes>"
      ]
     },
     "metadata": {
      "needs_background": "light"
     },
     "output_type": "display_data"
    }
   ],
   "source": [
    "#Distribution of news articles over 3 categories\n",
    "fig = plt.figure(figsize=(6,5))\n",
    "sns.countplot(news_df_new.news_category)"
   ]
  },
  {
   "cell_type": "code",
   "execution_count": 6,
   "metadata": {},
   "outputs": [
    {
     "data": {
      "text/html": [
       "<div>\n",
       "<style scoped>\n",
       "    .dataframe tbody tr th:only-of-type {\n",
       "        vertical-align: middle;\n",
       "    }\n",
       "\n",
       "    .dataframe tbody tr th {\n",
       "        vertical-align: top;\n",
       "    }\n",
       "\n",
       "    .dataframe thead th {\n",
       "        text-align: right;\n",
       "    }\n",
       "</style>\n",
       "<table border=\"1\" class=\"dataframe\">\n",
       "  <thead>\n",
       "    <tr style=\"text-align: right;\">\n",
       "      <th></th>\n",
       "      <th>news_headline</th>\n",
       "      <th>news_article</th>\n",
       "      <th>news_category</th>\n",
       "    </tr>\n",
       "  </thead>\n",
       "  <tbody>\n",
       "    <tr>\n",
       "      <th>0</th>\n",
       "      <td>Kumble should be chief selector but BCCI needs...</td>\n",
       "      <td>Ex-India batsman Virender Sehwag has said that...</td>\n",
       "      <td>sports</td>\n",
       "    </tr>\n",
       "    <tr>\n",
       "      <th>1</th>\n",
       "      <td>We are here to win, not see how many helmets w...</td>\n",
       "      <td>After Steve Smith was hit by a Jofra Archer bo...</td>\n",
       "      <td>sports</td>\n",
       "    </tr>\n",
       "    <tr>\n",
       "      <th>2</th>\n",
       "      <td>Pak cricketer Hassan Ali marries Haryana girl ...</td>\n",
       "      <td>Pakistan fast bowler Hassan Ali tied the knot ...</td>\n",
       "      <td>sports</td>\n",
       "    </tr>\n",
       "    <tr>\n",
       "      <th>3</th>\n",
       "      <td>Paytm gets BCCI's title sponsorship rights for...</td>\n",
       "      <td>The BCCI today announced that Paytm has acquir...</td>\n",
       "      <td>sports</td>\n",
       "    </tr>\n",
       "    <tr>\n",
       "      <th>4</th>\n",
       "      <td>NZ Women's same-sex couple Satterthwaite, Tahu...</td>\n",
       "      <td>New Zealand Women captain Amy Satterthwaite an...</td>\n",
       "      <td>sports</td>\n",
       "    </tr>\n",
       "  </tbody>\n",
       "</table>\n",
       "</div>"
      ],
      "text/plain": [
       "                                       news_headline  \\\n",
       "0  Kumble should be chief selector but BCCI needs...   \n",
       "1  We are here to win, not see how many helmets w...   \n",
       "2  Pak cricketer Hassan Ali marries Haryana girl ...   \n",
       "3  Paytm gets BCCI's title sponsorship rights for...   \n",
       "4  NZ Women's same-sex couple Satterthwaite, Tahu...   \n",
       "\n",
       "                                        news_article news_category  \n",
       "0  Ex-India batsman Virender Sehwag has said that...        sports  \n",
       "1  After Steve Smith was hit by a Jofra Archer bo...        sports  \n",
       "2  Pakistan fast bowler Hassan Ali tied the knot ...        sports  \n",
       "3  The BCCI today announced that Paytm has acquir...        sports  \n",
       "4  New Zealand Women captain Amy Satterthwaite an...        sports  "
      ]
     },
     "execution_count": 6,
     "metadata": {},
     "output_type": "execute_result"
    }
   ],
   "source": [
    "news_df_new.head()"
   ]
  },
  {
   "cell_type": "code",
   "execution_count": 7,
   "metadata": {},
   "outputs": [
    {
     "data": {
      "text/plain": [
       "(73, 3)"
      ]
     },
     "execution_count": 7,
     "metadata": {},
     "output_type": "execute_result"
    }
   ],
   "source": [
    "news_df_new.shape"
   ]
  },
  {
   "cell_type": "code",
   "execution_count": 8,
   "metadata": {},
   "outputs": [
    {
     "data": {
      "text/html": [
       "<div>\n",
       "<style scoped>\n",
       "    .dataframe tbody tr th:only-of-type {\n",
       "        vertical-align: middle;\n",
       "    }\n",
       "\n",
       "    .dataframe tbody tr th {\n",
       "        vertical-align: top;\n",
       "    }\n",
       "\n",
       "    .dataframe thead th {\n",
       "        text-align: right;\n",
       "    }\n",
       "</style>\n",
       "<table border=\"1\" class=\"dataframe\">\n",
       "  <thead>\n",
       "    <tr style=\"text-align: right;\">\n",
       "      <th></th>\n",
       "      <th>news_headline</th>\n",
       "      <th>news_article</th>\n",
       "      <th>news_category</th>\n",
       "    </tr>\n",
       "  </thead>\n",
       "  <tbody>\n",
       "    <tr>\n",
       "      <th>0</th>\n",
       "      <td>Sreesanth's life ban reduced to 7 years by BCC...</td>\n",
       "      <td>Pacer S Sreesanth's life ban for his involveme...</td>\n",
       "      <td>sports</td>\n",
       "    </tr>\n",
       "    <tr>\n",
       "      <th>1</th>\n",
       "      <td>NZ Women's same-sex couple Satterthwaite, Tahu...</td>\n",
       "      <td>New Zealand Women captain Amy Satterthwaite an...</td>\n",
       "      <td>sports</td>\n",
       "    </tr>\n",
       "    <tr>\n",
       "      <th>2</th>\n",
       "      <td>What is the yellow symbol Aussie players have ...</td>\n",
       "      <td>The yellow symbol on the shirt collars of Aust...</td>\n",
       "      <td>sports</td>\n",
       "    </tr>\n",
       "    <tr>\n",
       "      <th>3</th>\n",
       "      <td>21-yr-old Duckhee becomes 1st deaf player to w...</td>\n",
       "      <td>South Korea's 21-year-old Duckhee Lee has beco...</td>\n",
       "      <td>sports</td>\n",
       "    </tr>\n",
       "    <tr>\n",
       "      <th>4</th>\n",
       "      <td>Hassan pulls off 'bomb explosion' celebration ...</td>\n",
       "      <td>A video of Pakistani fast bowler Hassan Ali pu...</td>\n",
       "      <td>sports</td>\n",
       "    </tr>\n",
       "  </tbody>\n",
       "</table>\n",
       "</div>"
      ],
      "text/plain": [
       "                                       news_headline  \\\n",
       "0  Sreesanth's life ban reduced to 7 years by BCC...   \n",
       "1  NZ Women's same-sex couple Satterthwaite, Tahu...   \n",
       "2  What is the yellow symbol Aussie players have ...   \n",
       "3  21-yr-old Duckhee becomes 1st deaf player to w...   \n",
       "4  Hassan pulls off 'bomb explosion' celebration ...   \n",
       "\n",
       "                                        news_article news_category  \n",
       "0  Pacer S Sreesanth's life ban for his involveme...        sports  \n",
       "1  New Zealand Women captain Amy Satterthwaite an...        sports  \n",
       "2  The yellow symbol on the shirt collars of Aust...        sports  \n",
       "3  South Korea's 21-year-old Duckhee Lee has beco...        sports  \n",
       "4  A video of Pakistani fast bowler Hassan Ali pu...        sports  "
      ]
     },
     "execution_count": 8,
     "metadata": {},
     "output_type": "execute_result"
    }
   ],
   "source": [
    "#As the data is small, I will use the data that I scraped earlier (one day ago)\n",
    "news_df_old = pd.read_csv('Inshorts_news_day1.csv',usecols = ['news_headline','news_article','news_category'])\n",
    "news_df_old.head()"
   ]
  },
  {
   "cell_type": "code",
   "execution_count": 9,
   "metadata": {},
   "outputs": [
    {
     "data": {
      "text/html": [
       "<div>\n",
       "<style scoped>\n",
       "    .dataframe tbody tr th:only-of-type {\n",
       "        vertical-align: middle;\n",
       "    }\n",
       "\n",
       "    .dataframe tbody tr th {\n",
       "        vertical-align: top;\n",
       "    }\n",
       "\n",
       "    .dataframe thead th {\n",
       "        text-align: right;\n",
       "    }\n",
       "</style>\n",
       "<table border=\"1\" class=\"dataframe\">\n",
       "  <thead>\n",
       "    <tr style=\"text-align: right;\">\n",
       "      <th></th>\n",
       "      <th>news_headline</th>\n",
       "      <th>news_article</th>\n",
       "      <th>news_category</th>\n",
       "    </tr>\n",
       "  </thead>\n",
       "  <tbody>\n",
       "    <tr>\n",
       "      <th>0</th>\n",
       "      <td>Kumble should be chief selector but BCCI needs...</td>\n",
       "      <td>Ex-India batsman Virender Sehwag has said that...</td>\n",
       "      <td>sports</td>\n",
       "    </tr>\n",
       "    <tr>\n",
       "      <th>1</th>\n",
       "      <td>We are here to win, not see how many helmets w...</td>\n",
       "      <td>After Steve Smith was hit by a Jofra Archer bo...</td>\n",
       "      <td>sports</td>\n",
       "    </tr>\n",
       "    <tr>\n",
       "      <th>2</th>\n",
       "      <td>Pak cricketer Hassan Ali marries Haryana girl ...</td>\n",
       "      <td>Pakistan fast bowler Hassan Ali tied the knot ...</td>\n",
       "      <td>sports</td>\n",
       "    </tr>\n",
       "    <tr>\n",
       "      <th>3</th>\n",
       "      <td>Paytm gets BCCI's title sponsorship rights for...</td>\n",
       "      <td>The BCCI today announced that Paytm has acquir...</td>\n",
       "      <td>sports</td>\n",
       "    </tr>\n",
       "    <tr>\n",
       "      <th>4</th>\n",
       "      <td>NZ Women's same-sex couple Satterthwaite, Tahu...</td>\n",
       "      <td>New Zealand Women captain Amy Satterthwaite an...</td>\n",
       "      <td>sports</td>\n",
       "    </tr>\n",
       "  </tbody>\n",
       "</table>\n",
       "</div>"
      ],
      "text/plain": [
       "                                       news_headline  \\\n",
       "0  Kumble should be chief selector but BCCI needs...   \n",
       "1  We are here to win, not see how many helmets w...   \n",
       "2  Pak cricketer Hassan Ali marries Haryana girl ...   \n",
       "3  Paytm gets BCCI's title sponsorship rights for...   \n",
       "4  NZ Women's same-sex couple Satterthwaite, Tahu...   \n",
       "\n",
       "                                        news_article news_category  \n",
       "0  Ex-India batsman Virender Sehwag has said that...        sports  \n",
       "1  After Steve Smith was hit by a Jofra Archer bo...        sports  \n",
       "2  Pakistan fast bowler Hassan Ali tied the knot ...        sports  \n",
       "3  The BCCI today announced that Paytm has acquir...        sports  \n",
       "4  New Zealand Women captain Amy Satterthwaite an...        sports  "
      ]
     },
     "execution_count": 9,
     "metadata": {},
     "output_type": "execute_result"
    }
   ],
   "source": [
    "#concatenating news_df and news_df_old\n",
    "news_df = news_df_new.append(news_df_old)\n",
    "news_df.head()"
   ]
  },
  {
   "cell_type": "code",
   "execution_count": 10,
   "metadata": {},
   "outputs": [
    {
     "data": {
      "text/plain": [
       "(146, 3)"
      ]
     },
     "execution_count": 10,
     "metadata": {},
     "output_type": "execute_result"
    }
   ],
   "source": [
    "news_df.shape"
   ]
  },
  {
   "cell_type": "code",
   "execution_count": 11,
   "metadata": {},
   "outputs": [
    {
     "data": {
      "text/plain": [
       "<matplotlib.axes._subplots.AxesSubplot at 0x1a223cfcf8>"
      ]
     },
     "execution_count": 11,
     "metadata": {},
     "output_type": "execute_result"
    },
    {
     "data": {
      "image/png": "[encoded data removed]",
      "text/plain": [
       "<Figure size 432x288 with 1 Axes>"
      ]
     },
     "metadata": {
      "needs_background": "light"
     },
     "output_type": "display_data"
    }
   ],
   "source": [
    "sns.countplot(news_df.news_category)"
   ]
  },
  {
   "cell_type": "code",
   "execution_count": 12,
   "metadata": {},
   "outputs": [],
   "source": [
    "#Combining news article and news headline into a new column 'news'\n",
    "news_df['news'] = news_df['news_headline']+news_df['news_article']"
   ]
  },
  {
   "cell_type": "markdown",
   "metadata": {},
   "source": [
    "### I will build 3 classifiers to compare the performance for 3 cases :\n",
    "1. Only news headline as feature\n",
    "2. Only news article as feature\n",
    "3. news article and news headline both as features"
   ]
  },
  {
   "cell_type": "code",
   "execution_count": 13,
   "metadata": {},
   "outputs": [],
   "source": [
    "#splitting train and test data into 75% and 25% respectively\n",
    "from sklearn.model_selection import train_test_split\n",
    "X_news = news_df[['news']]\n",
    "X_news_article = news_df[['news_article']]\n",
    "X_news_headline = news_df[['news_headline']]\n",
    "y = news_df['news_category']\n",
    "\n",
    "#Case 1\n",
    "X_train_news, X_test_news, y_train_news, y_test_news = train_test_split(X_news,y,stratify = y, test_size =0.25, random_state=42)\n",
    "\n",
    "#Case 2\n",
    "X_train_news_article, X_test_news_article, y_train_news_article, y_test_news_article = train_test_split(X_news_article,y,stratify = y, test_size =0.25, random_state=42)\n",
    "\n",
    "#Case 3\n",
    "X_train_news_headline, X_test_news_headline, y_train_news_headline, y_test_news_headline = train_test_split(X_news_headline,y,stratify = y, test_size =0.25, random_state=42)\n"
   ]
  },
  {
   "cell_type": "code",
   "execution_count": 14,
   "metadata": {},
   "outputs": [
    {
     "data": {
      "text/plain": [
       "sports        37\n",
       "technology    36\n",
       "world         36\n",
       "Name: news_category, dtype: int64"
      ]
     },
     "execution_count": 14,
     "metadata": {},
     "output_type": "execute_result"
    }
   ],
   "source": [
    "#each category has equal number of samples. \n",
    "y_train_news.value_counts()"
   ]
  },
  {
   "cell_type": "markdown",
   "metadata": {},
   "source": [
    "### Building pipeline to first process the text data using TFIDF and then classifying using RidgeClassifier\n",
    "#### 1. max_df and min_df parameters are tuned for TFIDF.\n",
    "#### 2. alpha is tuned for ridge classifier.\n",
    "#### 3. StratifiedKFold is used for preserving the percentage of samples for each class.\n",
    "#### 4. ngram_range for TFIDF is set to (1,2), using unigrams and bigrams."
   ]
  },
  {
   "cell_type": "code",
   "execution_count": 15,
   "metadata": {},
   "outputs": [],
   "source": [
    "from sklearn.linear_model import RidgeClassifier\n",
    "from sklearn.feature_extraction.text import TfidfVectorizer\n",
    "from sklearn.model_selection import GridSearchCV\n",
    "from sklearn.model_selection import StratifiedKFold\n",
    "from sklearn.pipeline import Pipeline\n",
    "from sklearn.metrics import classification_report\n",
    "\n",
    "cv = StratifiedKFold(n_splits=5)\n",
    "\n",
    "pipeline = Pipeline([('tfidf',TfidfVectorizer(ngram_range=(1,2))),\n",
    "                     ('clf',RidgeClassifier())])\n",
    "\n",
    "param_grid = ({'tfidf__max_df':[.6,.7,.8,.9],\n",
    "              'tfidf__min_df':[0,.1,.2],\n",
    "              'clf__alpha': [.001,.01,.1,1,10,100,1000]})\n",
    "\n",
    "grid_search = GridSearchCV(estimator=pipeline, cv=5, param_grid=param_grid)"
   ]
  },
  {
   "cell_type": "markdown",
   "metadata": {},
   "source": [
    "### Case 1: Using only news_headline"
   ]
  },
  {
   "cell_type": "code",
   "execution_count": 16,
   "metadata": {},
   "outputs": [
    {
     "name": "stdout",
     "output_type": "stream",
     "text": [
      "              precision    recall  f1-score   support\n",
      "\n",
      "      sports       0.87      1.00      0.93        13\n",
      "  technology       0.92      1.00      0.96        12\n",
      "       world       1.00      0.75      0.86        12\n",
      "\n",
      "   micro avg       0.92      0.92      0.92        37\n",
      "   macro avg       0.93      0.92      0.92        37\n",
      "weighted avg       0.93      0.92      0.92        37\n",
      "\n"
     ]
    },
    {
     "name": "stderr",
     "output_type": "stream",
     "text": [
      "/Users/ramya.gowda/miniconda3/envs/tensorflow/lib/python3.6/site-packages/sklearn/model_selection/_search.py:841: DeprecationWarning: The default of the `iid` parameter will change from True to False in version 0.22 and will be removed in 0.24. This will change numeric results when test-set sizes are unequal.\n",
      "  DeprecationWarning)\n"
     ]
    }
   ],
   "source": [
    "grid_search.fit(X_train_news_headline.news_headline, y_train_news_headline)\n",
    "y_pred_news_headline = grid_search.predict(X_test_news_headline.news_headline)\n",
    "\n",
    "news_headline_report = classification_report(y_pred=y_pred_news_headline, y_true = y_test_news_headline)\n",
    "print(news_headline_report)"
   ]
  },
  {
   "cell_type": "markdown",
   "metadata": {},
   "source": [
    "### Case 2: Using only news article"
   ]
  },
  {
   "cell_type": "code",
   "execution_count": 17,
   "metadata": {},
   "outputs": [
    {
     "name": "stdout",
     "output_type": "stream",
     "text": [
      "              precision    recall  f1-score   support\n",
      "\n",
      "      sports       1.00      1.00      1.00        13\n",
      "  technology       0.92      1.00      0.96        12\n",
      "       world       1.00      0.92      0.96        12\n",
      "\n",
      "   micro avg       0.97      0.97      0.97        37\n",
      "   macro avg       0.97      0.97      0.97        37\n",
      "weighted avg       0.98      0.97      0.97        37\n",
      "\n"
     ]
    },
    {
     "name": "stderr",
     "output_type": "stream",
     "text": [
      "/Users/ramya.gowda/miniconda3/envs/tensorflow/lib/python3.6/site-packages/sklearn/model_selection/_search.py:841: DeprecationWarning: The default of the `iid` parameter will change from True to False in version 0.22 and will be removed in 0.24. This will change numeric results when test-set sizes are unequal.\n",
      "  DeprecationWarning)\n"
     ]
    }
   ],
   "source": [
    "grid_search.fit(X_train_news_article.news_article, y_train_news_article)\n",
    "y_pred_news_article = grid_search.predict(X_test_news_article.news_article)\n",
    "\n",
    "news_article_report = classification_report(y_pred=y_pred_news_article, y_true = y_test_news_article)\n",
    "print(news_article_report)"
   ]
  },
  {
   "cell_type": "markdown",
   "metadata": {},
   "source": [
    "### Case 3: Using both news headline and article"
   ]
  },
  {
   "cell_type": "code",
   "execution_count": 18,
   "metadata": {},
   "outputs": [
    {
     "name": "stdout",
     "output_type": "stream",
     "text": [
      "              precision    recall  f1-score   support\n",
      "\n",
      "      sports       1.00      1.00      1.00        13\n",
      "  technology       0.92      1.00      0.96        12\n",
      "       world       1.00      0.92      0.96        12\n",
      "\n",
      "   micro avg       0.97      0.97      0.97        37\n",
      "   macro avg       0.97      0.97      0.97        37\n",
      "weighted avg       0.98      0.97      0.97        37\n",
      "\n"
     ]
    },
    {
     "name": "stderr",
     "output_type": "stream",
     "text": [
      "/Users/ramya.gowda/miniconda3/envs/tensorflow/lib/python3.6/site-packages/sklearn/model_selection/_search.py:841: DeprecationWarning: The default of the `iid` parameter will change from True to False in version 0.22 and will be removed in 0.24. This will change numeric results when test-set sizes are unequal.\n",
      "  DeprecationWarning)\n"
     ]
    }
   ],
   "source": [
    "grid_search.fit(X_train_news.news, y_train_news)\n",
    "y_pred_news = grid_search.predict(X_test_news.news)\n",
    "\n",
    "news_report = classification_report(y_pred=y_pred_news, y_true = y_test_news)\n",
    "print(news_report)"
   ]
  },
  {
   "cell_type": "markdown",
   "metadata": {},
   "source": [
    "In conclusion, performance improved for all the three categories from using only news headline to using news article. \n",
    "But the performance doesn't change when both news article and news headline are conctenated showing that news headline does not contribute in performance improvement."
   ]
  }
 ],
 "metadata": {
  "kernelspec": {
   "display_name": "Python 3",
   "language": "python",
   "name": "python3"
  },
  "language_info": {
   "codemirror_mode": {
    "name": "ipython",
    "version": 3
   },
   "file_extension": ".py",
   "mimetype": "text/x-python",
   "name": "python",
   "nbconvert_exporter": "python",
   "pygments_lexer": "ipython3",
   "version": "3.6.8"
  }
 },
 "nbformat": 4,
 "nbformat_minor": 2
}
